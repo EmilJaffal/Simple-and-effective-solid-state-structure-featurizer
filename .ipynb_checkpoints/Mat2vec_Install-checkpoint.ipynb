{
 "cells": [
  {
   "cell_type": "markdown",
   "id": "760fe7e2-ab38-4c37-8456-9fc62d0a8e3e",
   "metadata": {},
   "source": [
    "### Mat2Vec Installation\n",
    "\n",
    "#### See following:\n",
    "\n",
    "    https://github.com/materialsintelligence/mat2vec\n",
    "\n",
    "#### Set up\n",
    "\n",
    "1. Make sure you have python3.6 and the pip module installed. We recommend using conda environments.\n",
    "2. Clone repo (I cloned into desktop)\n",
    "3. Navigate to the root folder of this repository (the same folder that contains this README file) and run pip install --ignore-installed -r requirements.txt.\n",
    "   - Note: If you are using a conda env and any packages fail to compile during this step, you may need to first install those packages separately with conda install package_name.\n",
    "   - Downgrade python version to 3.8 otherwise DAWG can't be installed.\n",
    "4. Wait for all the requirements to be downloaded and installed.\n",
    "5. Run python setup.py install to install this module. This will also download the Word2vec model files. If the download fails, manually download the model, word embeddings and output embeddings and put them in mat2vec/training/models.\n",
    "6. Finalize your chemdataextractor installation by executing cde data download\n",
    "    - (You may need to restart your virtual environment for the cde command line interface to be found).\n",
    "    - Had to do the following: pip install chemdataextractor (also, i originally used python=3.6 but led to some issues with importlib not existing, even after pip install)"
   ]
  },
  {
   "cell_type": "code",
   "execution_count": 6,
   "id": "0e8997bb-bb2a-43a5-9353-84920997646f",
   "metadata": {},
   "outputs": [
    {
     "name": "stdout",
     "output_type": "stream",
     "text": [
      "/Users/emiljaffal/Desktop\n"
     ]
    }
   ],
   "source": [
    "cd desktop"
   ]
  },
  {
   "cell_type": "code",
   "execution_count": 14,
   "id": "6b08d9dc-3b2c-4a0f-a29b-11a6119ebd84",
   "metadata": {},
   "outputs": [
    {
     "ename": "TypeError",
     "evalue": "dataclass_transform() got an unexpected keyword argument 'field_specifiers'",
     "output_type": "error",
     "traceback": [
      "\u001b[0;31m---------------------------------------------------------------------------\u001b[0m",
      "\u001b[0;31mTypeError\u001b[0m                                 Traceback (most recent call last)",
      "Cell \u001b[0;32mIn[14], line 3\u001b[0m\n\u001b[1;32m      1\u001b[0m \u001b[38;5;66;03m#pip install Unidecode, monty, gensim, pymatgen... wasn't present?\u001b[39;00m\n\u001b[1;32m      2\u001b[0m \u001b[38;5;28;01mimport\u001b[39;00m \u001b[38;5;21;01mmat2vec\u001b[39;00m\n\u001b[0;32m----> 3\u001b[0m \u001b[38;5;28;01mfrom\u001b[39;00m \u001b[38;5;21;01mmat2vec\u001b[39;00m\u001b[38;5;21;01m.\u001b[39;00m\u001b[38;5;21;01mprocessing\u001b[39;00m \u001b[38;5;28;01mimport\u001b[39;00m MaterialsTextProcessor\n\u001b[1;32m      4\u001b[0m text_processor \u001b[38;5;241m=\u001b[39m MaterialsTextProcessor()\n\u001b[1;32m      5\u001b[0m text_processor\u001b[38;5;241m.\u001b[39mprocess(\u001b[38;5;124m\"\u001b[39m\u001b[38;5;124mLiCoO2 is a battery cathode material.\u001b[39m\u001b[38;5;124m\"\u001b[39m)\n",
      "File \u001b[0;32m~/Desktop/mat2vec/mat2vec/processing/__init__.py:1\u001b[0m\n\u001b[0;32m----> 1\u001b[0m \u001b[38;5;28;01mfrom\u001b[39;00m \u001b[38;5;21;01mmat2vec\u001b[39;00m\u001b[38;5;21;01m.\u001b[39;00m\u001b[38;5;21;01mprocessing\u001b[39;00m\u001b[38;5;21;01m.\u001b[39;00m\u001b[38;5;21;01mprocess\u001b[39;00m \u001b[38;5;28;01mimport\u001b[39;00m MaterialsTextProcessor\n",
      "File \u001b[0;32m~/Desktop/mat2vec/mat2vec/processing/process.py:10\u001b[0m\n\u001b[1;32m      7\u001b[0m \u001b[38;5;28;01mfrom\u001b[39;00m \u001b[38;5;21;01mchemdataextractor\u001b[39;00m\u001b[38;5;21;01m.\u001b[39;00m\u001b[38;5;21;01mdoc\u001b[39;00m \u001b[38;5;28;01mimport\u001b[39;00m Paragraph\n\u001b[1;32m      8\u001b[0m \u001b[38;5;28;01mfrom\u001b[39;00m \u001b[38;5;21;01mgensim\u001b[39;00m\u001b[38;5;21;01m.\u001b[39;00m\u001b[38;5;21;01mmodels\u001b[39;00m\u001b[38;5;21;01m.\u001b[39;00m\u001b[38;5;21;01mphrases\u001b[39;00m \u001b[38;5;28;01mimport\u001b[39;00m Phraser\n\u001b[0;32m---> 10\u001b[0m \u001b[38;5;28;01mfrom\u001b[39;00m \u001b[38;5;21;01mpymatgen\u001b[39;00m\u001b[38;5;21;01m.\u001b[39;00m\u001b[38;5;21;01mcore\u001b[39;00m\u001b[38;5;21;01m.\u001b[39;00m\u001b[38;5;21;01mperiodic_table\u001b[39;00m \u001b[38;5;28;01mimport\u001b[39;00m Element\n\u001b[1;32m     11\u001b[0m \u001b[38;5;28;01mfrom\u001b[39;00m \u001b[38;5;21;01mpymatgen\u001b[39;00m\u001b[38;5;21;01m.\u001b[39;00m\u001b[38;5;21;01mcore\u001b[39;00m\u001b[38;5;21;01m.\u001b[39;00m\u001b[38;5;21;01mcomposition\u001b[39;00m \u001b[38;5;28;01mimport\u001b[39;00m Composition, CompositionError\n\u001b[1;32m     13\u001b[0m PHRASER_PATH \u001b[38;5;241m=\u001b[39m path\u001b[38;5;241m.\u001b[39mjoin(path\u001b[38;5;241m.\u001b[39mdirname(\u001b[38;5;18m__file__\u001b[39m), \u001b[38;5;124m\"\u001b[39m\u001b[38;5;124mmodels/phraser.pkl\u001b[39m\u001b[38;5;124m\"\u001b[39m)\n",
      "File \u001b[0;32m~/anaconda3/envs/mat2vec/lib/python3.8/site-packages/pymatgen/core/__init__.py:13\u001b[0m\n\u001b[1;32m      9\u001b[0m \u001b[38;5;28;01mfrom\u001b[39;00m \u001b[38;5;21;01mtyping\u001b[39;00m \u001b[38;5;28;01mimport\u001b[39;00m Any\n\u001b[1;32m     11\u001b[0m \u001b[38;5;28;01mfrom\u001b[39;00m \u001b[38;5;21;01mruamel\u001b[39;00m\u001b[38;5;21;01m.\u001b[39;00m\u001b[38;5;21;01myaml\u001b[39;00m \u001b[38;5;28;01mimport\u001b[39;00m YAML\n\u001b[0;32m---> 13\u001b[0m \u001b[38;5;28;01mfrom\u001b[39;00m \u001b[38;5;21;01mpymatgen\u001b[39;00m\u001b[38;5;21;01m.\u001b[39;00m\u001b[38;5;21;01mcore\u001b[39;00m\u001b[38;5;21;01m.\u001b[39;00m\u001b[38;5;21;01mcomposition\u001b[39;00m \u001b[38;5;28;01mimport\u001b[39;00m Composition \u001b[38;5;28;01mas\u001b[39;00m Composition\n\u001b[1;32m     14\u001b[0m \u001b[38;5;28;01mfrom\u001b[39;00m \u001b[38;5;21;01mpymatgen\u001b[39;00m\u001b[38;5;21;01m.\u001b[39;00m\u001b[38;5;21;01mcore\u001b[39;00m\u001b[38;5;21;01m.\u001b[39;00m\u001b[38;5;21;01mlattice\u001b[39;00m \u001b[38;5;28;01mimport\u001b[39;00m Lattice \u001b[38;5;28;01mas\u001b[39;00m Lattice\n\u001b[1;32m     15\u001b[0m \u001b[38;5;28;01mfrom\u001b[39;00m \u001b[38;5;21;01mpymatgen\u001b[39;00m\u001b[38;5;21;01m.\u001b[39;00m\u001b[38;5;21;01mcore\u001b[39;00m\u001b[38;5;21;01m.\u001b[39;00m\u001b[38;5;21;01moperations\u001b[39;00m \u001b[38;5;28;01mimport\u001b[39;00m SymmOp \u001b[38;5;28;01mas\u001b[39;00m SymmOp\n",
      "File \u001b[0;32m~/anaconda3/envs/mat2vec/lib/python3.8/site-packages/pymatgen/core/composition.py:18\u001b[0m\n\u001b[1;32m     15\u001b[0m \u001b[38;5;28;01mfrom\u001b[39;00m \u001b[38;5;21;01mtyping\u001b[39;00m \u001b[38;5;28;01mimport\u001b[39;00m Generator, Iterator, Union, cast\n\u001b[1;32m     17\u001b[0m \u001b[38;5;28;01mfrom\u001b[39;00m \u001b[38;5;21;01mmonty\u001b[39;00m\u001b[38;5;21;01m.\u001b[39;00m\u001b[38;5;21;01mfractions\u001b[39;00m \u001b[38;5;28;01mimport\u001b[39;00m gcd, gcd_float\n\u001b[0;32m---> 18\u001b[0m \u001b[38;5;28;01mfrom\u001b[39;00m \u001b[38;5;21;01mmonty\u001b[39;00m\u001b[38;5;21;01m.\u001b[39;00m\u001b[38;5;21;01mjson\u001b[39;00m \u001b[38;5;28;01mimport\u001b[39;00m MSONable\n\u001b[1;32m     19\u001b[0m \u001b[38;5;28;01mfrom\u001b[39;00m \u001b[38;5;21;01mmonty\u001b[39;00m\u001b[38;5;21;01m.\u001b[39;00m\u001b[38;5;21;01mserialization\u001b[39;00m \u001b[38;5;28;01mimport\u001b[39;00m loadfn\n\u001b[1;32m     21\u001b[0m \u001b[38;5;28;01mfrom\u001b[39;00m \u001b[38;5;21;01mpymatgen\u001b[39;00m\u001b[38;5;21;01m.\u001b[39;00m\u001b[38;5;21;01mcore\u001b[39;00m\u001b[38;5;21;01m.\u001b[39;00m\u001b[38;5;21;01mperiodic_table\u001b[39;00m \u001b[38;5;28;01mimport\u001b[39;00m DummySpecies, Element, Species, get_el_sp\n",
      "File \u001b[0;32m~/anaconda3/envs/mat2vec/lib/python3.8/site-packages/monty/json.py:28\u001b[0m\n\u001b[1;32m     25\u001b[0m     pd \u001b[38;5;241m=\u001b[39m \u001b[38;5;28;01mNone\u001b[39;00m  \u001b[38;5;66;03m# type: ignore\u001b[39;00m\n\u001b[1;32m     27\u001b[0m \u001b[38;5;28;01mtry\u001b[39;00m:\n\u001b[0;32m---> 28\u001b[0m     \u001b[38;5;28;01mimport\u001b[39;00m \u001b[38;5;21;01mpydantic\u001b[39;00m\n\u001b[1;32m     29\u001b[0m \u001b[38;5;28;01mexcept\u001b[39;00m \u001b[38;5;167;01mImportError\u001b[39;00m:\n\u001b[1;32m     30\u001b[0m     pydantic \u001b[38;5;241m=\u001b[39m \u001b[38;5;28;01mNone\u001b[39;00m  \u001b[38;5;66;03m# type: ignore\u001b[39;00m\n",
      "File \u001b[0;32m~/anaconda3/envs/mat2vec/lib/python3.8/site-packages/pydantic/__init__.py:2\u001b[0m, in \u001b[0;36minit pydantic.__init__\u001b[0;34m()\u001b[0m\n",
      "File \u001b[0;32m~/anaconda3/envs/mat2vec/lib/python3.8/site-packages/pydantic/dataclasses.py:55\u001b[0m, in \u001b[0;36minit pydantic.dataclasses\u001b[0;34m()\u001b[0m\n",
      "File \u001b[0;32m~/anaconda3/envs/mat2vec/lib/python3.8/site-packages/pydantic/main.py:120\u001b[0m, in \u001b[0;36minit pydantic.main\u001b[0;34m()\u001b[0m\n",
      "\u001b[0;31mTypeError\u001b[0m: dataclass_transform() got an unexpected keyword argument 'field_specifiers'"
     ]
    }
   ],
   "source": [
    "#pip install Unidecode, monty, gensim, pymatgen... wasn't present?\n",
    "import mat2vec\n",
    "from mat2vec.processing import MaterialsTextProcessor\n",
    "text_processor = MaterialsTextProcessor()\n",
    "text_processor.process(\"LiCoO2 is a battery cathode material.\")"
   ]
  },
  {
   "cell_type": "code",
   "execution_count": 21,
   "id": "87733e39-f5d6-48d6-a478-9463f109158d",
   "metadata": {},
   "outputs": [
    {
     "ename": "ImportError",
     "evalue": "cannot import name 'gensim' from 'mat2vec' (/Users/emiljaffal/Desktop/mat2vec/mat2vec/__init__.py)",
     "output_type": "error",
     "traceback": [
      "\u001b[0;31m---------------------------------------------------------------------------\u001b[0m",
      "\u001b[0;31mImportError\u001b[0m                               Traceback (most recent call last)",
      "Cell \u001b[0;32mIn[21], line 1\u001b[0m\n\u001b[0;32m----> 1\u001b[0m \u001b[38;5;28;01mfrom\u001b[39;00m \u001b[38;5;21;01mmat2vec\u001b[39;00m \u001b[38;5;28;01mimport\u001b[39;00m gensim\n\u001b[1;32m      2\u001b[0m \u001b[38;5;28;01mfrom\u001b[39;00m \u001b[38;5;21;01mgensim\u001b[39;00m\u001b[38;5;21;01m.\u001b[39;00m\u001b[38;5;21;01mmodels\u001b[39;00m \u001b[38;5;28;01mimport\u001b[39;00m Word2Vec\n\u001b[1;32m      3\u001b[0m w2v_model \u001b[38;5;241m=\u001b[39m Word2Vec\u001b[38;5;241m.\u001b[39mload(\u001b[38;5;124m\"\u001b[39m\u001b[38;5;124mmat2vec/training/models/pretrained_embeddings\u001b[39m\u001b[38;5;124m\"\u001b[39m)\n",
      "\u001b[0;31mImportError\u001b[0m: cannot import name 'gensim' from 'mat2vec' (/Users/emiljaffal/Desktop/mat2vec/mat2vec/__init__.py)"
     ]
    }
   ],
   "source": [
    "from mat2vec import gensim\n",
    "from gensim.models import Word2Vec\n",
    "w2v_model = Word2Vec.load(\"mat2vec/training/models/pretrained_embeddings\")\n",
    "w2v_model.wv.most_similar(\"thermoelectric\")"
   ]
  },
  {
   "cell_type": "code",
   "execution_count": 22,
   "id": "2480acdb-c69f-494c-ace1-5a0097b17850",
   "metadata": {},
   "outputs": [
    {
     "ename": "NameError",
     "evalue": "name 'w2v_model' is not defined",
     "output_type": "error",
     "traceback": [
      "\u001b[0;31m---------------------------------------------------------------------------\u001b[0m",
      "\u001b[0;31mNameError\u001b[0m                                 Traceback (most recent call last)",
      "Cell \u001b[0;32mIn[22], line 1\u001b[0m\n\u001b[0;32m----> 1\u001b[0m \u001b[43mw2v_model\u001b[49m\u001b[38;5;241m.\u001b[39mwv\u001b[38;5;241m.\u001b[39mmost_similar(\u001b[38;5;124m\"\u001b[39m\u001b[38;5;124mband_gap\u001b[39m\u001b[38;5;124m\"\u001b[39m, topn\u001b[38;5;241m=\u001b[39m\u001b[38;5;241m5\u001b[39m)\n",
      "\u001b[0;31mNameError\u001b[0m: name 'w2v_model' is not defined"
     ]
    }
   ],
   "source": [
    "w2v_model.wv.most_similar(\"band_gap\", topn=5)"
   ]
  },
  {
   "cell_type": "code",
   "execution_count": 23,
   "id": "7c3b1df8-e2b2-46cd-bd5c-b02e5480cff3",
   "metadata": {},
   "outputs": [
    {
     "ename": "TypeError",
     "evalue": "dataclass_transform() got an unexpected keyword argument 'field_specifiers'",
     "output_type": "error",
     "traceback": [
      "\u001b[0;31m---------------------------------------------------------------------------\u001b[0m",
      "\u001b[0;31mTypeError\u001b[0m                                 Traceback (most recent call last)",
      "Cell \u001b[0;32mIn[23], line 1\u001b[0m\n\u001b[0;32m----> 1\u001b[0m \u001b[38;5;28;01mfrom\u001b[39;00m \u001b[38;5;21;01mmat2vec\u001b[39;00m\u001b[38;5;21;01m.\u001b[39;00m\u001b[38;5;21;01mprocessing\u001b[39;00m \u001b[38;5;28;01mimport\u001b[39;00m MaterialsTextProcessor\n\u001b[1;32m      2\u001b[0m text_processor \u001b[38;5;241m=\u001b[39m MaterialsTextProcessor()\n\u001b[1;32m      3\u001b[0m w2v_model\u001b[38;5;241m.\u001b[39mwv\u001b[38;5;241m.\u001b[39mmost_similar(\n\u001b[1;32m      4\u001b[0m     positive\u001b[38;5;241m=\u001b[39m[\u001b[38;5;124m\"\u001b[39m\u001b[38;5;124mcubic\u001b[39m\u001b[38;5;124m\"\u001b[39m, text_processor\u001b[38;5;241m.\u001b[39mnormalized_formula(\u001b[38;5;124m\"\u001b[39m\u001b[38;5;124mCdSe\u001b[39m\u001b[38;5;124m\"\u001b[39m)], \n\u001b[1;32m      5\u001b[0m     negative\u001b[38;5;241m=\u001b[39m[text_processor\u001b[38;5;241m.\u001b[39mnormalized_formula(\u001b[38;5;124m\"\u001b[39m\u001b[38;5;124mGaAs\u001b[39m\u001b[38;5;124m\"\u001b[39m)], topn\u001b[38;5;241m=\u001b[39m\u001b[38;5;241m1\u001b[39m)\n",
      "File \u001b[0;32m~/Desktop/mat2vec/mat2vec/processing/__init__.py:1\u001b[0m\n\u001b[0;32m----> 1\u001b[0m \u001b[38;5;28;01mfrom\u001b[39;00m \u001b[38;5;21;01mmat2vec\u001b[39;00m\u001b[38;5;21;01m.\u001b[39;00m\u001b[38;5;21;01mprocessing\u001b[39;00m\u001b[38;5;21;01m.\u001b[39;00m\u001b[38;5;21;01mprocess\u001b[39;00m \u001b[38;5;28;01mimport\u001b[39;00m MaterialsTextProcessor\n",
      "File \u001b[0;32m~/Desktop/mat2vec/mat2vec/processing/process.py:10\u001b[0m\n\u001b[1;32m      7\u001b[0m \u001b[38;5;28;01mfrom\u001b[39;00m \u001b[38;5;21;01mchemdataextractor\u001b[39;00m\u001b[38;5;21;01m.\u001b[39;00m\u001b[38;5;21;01mdoc\u001b[39;00m \u001b[38;5;28;01mimport\u001b[39;00m Paragraph\n\u001b[1;32m      8\u001b[0m \u001b[38;5;28;01mfrom\u001b[39;00m \u001b[38;5;21;01mgensim\u001b[39;00m\u001b[38;5;21;01m.\u001b[39;00m\u001b[38;5;21;01mmodels\u001b[39;00m\u001b[38;5;21;01m.\u001b[39;00m\u001b[38;5;21;01mphrases\u001b[39;00m \u001b[38;5;28;01mimport\u001b[39;00m Phraser\n\u001b[0;32m---> 10\u001b[0m \u001b[38;5;28;01mfrom\u001b[39;00m \u001b[38;5;21;01mpymatgen\u001b[39;00m\u001b[38;5;21;01m.\u001b[39;00m\u001b[38;5;21;01mcore\u001b[39;00m\u001b[38;5;21;01m.\u001b[39;00m\u001b[38;5;21;01mperiodic_table\u001b[39;00m \u001b[38;5;28;01mimport\u001b[39;00m Element\n\u001b[1;32m     11\u001b[0m \u001b[38;5;28;01mfrom\u001b[39;00m \u001b[38;5;21;01mpymatgen\u001b[39;00m\u001b[38;5;21;01m.\u001b[39;00m\u001b[38;5;21;01mcore\u001b[39;00m\u001b[38;5;21;01m.\u001b[39;00m\u001b[38;5;21;01mcomposition\u001b[39;00m \u001b[38;5;28;01mimport\u001b[39;00m Composition, CompositionError\n\u001b[1;32m     13\u001b[0m PHRASER_PATH \u001b[38;5;241m=\u001b[39m path\u001b[38;5;241m.\u001b[39mjoin(path\u001b[38;5;241m.\u001b[39mdirname(\u001b[38;5;18m__file__\u001b[39m), \u001b[38;5;124m\"\u001b[39m\u001b[38;5;124mmodels/phraser.pkl\u001b[39m\u001b[38;5;124m\"\u001b[39m)\n",
      "File \u001b[0;32m~/anaconda3/envs/mat2vec/lib/python3.8/site-packages/pymatgen/core/__init__.py:13\u001b[0m\n\u001b[1;32m      9\u001b[0m \u001b[38;5;28;01mfrom\u001b[39;00m \u001b[38;5;21;01mtyping\u001b[39;00m \u001b[38;5;28;01mimport\u001b[39;00m Any\n\u001b[1;32m     11\u001b[0m \u001b[38;5;28;01mfrom\u001b[39;00m \u001b[38;5;21;01mruamel\u001b[39;00m\u001b[38;5;21;01m.\u001b[39;00m\u001b[38;5;21;01myaml\u001b[39;00m \u001b[38;5;28;01mimport\u001b[39;00m YAML\n\u001b[0;32m---> 13\u001b[0m \u001b[38;5;28;01mfrom\u001b[39;00m \u001b[38;5;21;01mpymatgen\u001b[39;00m\u001b[38;5;21;01m.\u001b[39;00m\u001b[38;5;21;01mcore\u001b[39;00m\u001b[38;5;21;01m.\u001b[39;00m\u001b[38;5;21;01mcomposition\u001b[39;00m \u001b[38;5;28;01mimport\u001b[39;00m Composition \u001b[38;5;28;01mas\u001b[39;00m Composition\n\u001b[1;32m     14\u001b[0m \u001b[38;5;28;01mfrom\u001b[39;00m \u001b[38;5;21;01mpymatgen\u001b[39;00m\u001b[38;5;21;01m.\u001b[39;00m\u001b[38;5;21;01mcore\u001b[39;00m\u001b[38;5;21;01m.\u001b[39;00m\u001b[38;5;21;01mlattice\u001b[39;00m \u001b[38;5;28;01mimport\u001b[39;00m Lattice \u001b[38;5;28;01mas\u001b[39;00m Lattice\n\u001b[1;32m     15\u001b[0m \u001b[38;5;28;01mfrom\u001b[39;00m \u001b[38;5;21;01mpymatgen\u001b[39;00m\u001b[38;5;21;01m.\u001b[39;00m\u001b[38;5;21;01mcore\u001b[39;00m\u001b[38;5;21;01m.\u001b[39;00m\u001b[38;5;21;01moperations\u001b[39;00m \u001b[38;5;28;01mimport\u001b[39;00m SymmOp \u001b[38;5;28;01mas\u001b[39;00m SymmOp\n",
      "File \u001b[0;32m~/anaconda3/envs/mat2vec/lib/python3.8/site-packages/pymatgen/core/composition.py:18\u001b[0m\n\u001b[1;32m     15\u001b[0m \u001b[38;5;28;01mfrom\u001b[39;00m \u001b[38;5;21;01mtyping\u001b[39;00m \u001b[38;5;28;01mimport\u001b[39;00m Generator, Iterator, Union, cast\n\u001b[1;32m     17\u001b[0m \u001b[38;5;28;01mfrom\u001b[39;00m \u001b[38;5;21;01mmonty\u001b[39;00m\u001b[38;5;21;01m.\u001b[39;00m\u001b[38;5;21;01mfractions\u001b[39;00m \u001b[38;5;28;01mimport\u001b[39;00m gcd, gcd_float\n\u001b[0;32m---> 18\u001b[0m \u001b[38;5;28;01mfrom\u001b[39;00m \u001b[38;5;21;01mmonty\u001b[39;00m\u001b[38;5;21;01m.\u001b[39;00m\u001b[38;5;21;01mjson\u001b[39;00m \u001b[38;5;28;01mimport\u001b[39;00m MSONable\n\u001b[1;32m     19\u001b[0m \u001b[38;5;28;01mfrom\u001b[39;00m \u001b[38;5;21;01mmonty\u001b[39;00m\u001b[38;5;21;01m.\u001b[39;00m\u001b[38;5;21;01mserialization\u001b[39;00m \u001b[38;5;28;01mimport\u001b[39;00m loadfn\n\u001b[1;32m     21\u001b[0m \u001b[38;5;28;01mfrom\u001b[39;00m \u001b[38;5;21;01mpymatgen\u001b[39;00m\u001b[38;5;21;01m.\u001b[39;00m\u001b[38;5;21;01mcore\u001b[39;00m\u001b[38;5;21;01m.\u001b[39;00m\u001b[38;5;21;01mperiodic_table\u001b[39;00m \u001b[38;5;28;01mimport\u001b[39;00m DummySpecies, Element, Species, get_el_sp\n",
      "File \u001b[0;32m~/anaconda3/envs/mat2vec/lib/python3.8/site-packages/monty/json.py:28\u001b[0m\n\u001b[1;32m     25\u001b[0m     pd \u001b[38;5;241m=\u001b[39m \u001b[38;5;28;01mNone\u001b[39;00m  \u001b[38;5;66;03m# type: ignore\u001b[39;00m\n\u001b[1;32m     27\u001b[0m \u001b[38;5;28;01mtry\u001b[39;00m:\n\u001b[0;32m---> 28\u001b[0m     \u001b[38;5;28;01mimport\u001b[39;00m \u001b[38;5;21;01mpydantic\u001b[39;00m\n\u001b[1;32m     29\u001b[0m \u001b[38;5;28;01mexcept\u001b[39;00m \u001b[38;5;167;01mImportError\u001b[39;00m:\n\u001b[1;32m     30\u001b[0m     pydantic \u001b[38;5;241m=\u001b[39m \u001b[38;5;28;01mNone\u001b[39;00m  \u001b[38;5;66;03m# type: ignore\u001b[39;00m\n",
      "File \u001b[0;32m~/anaconda3/envs/mat2vec/lib/python3.8/site-packages/pydantic/__init__.py:2\u001b[0m, in \u001b[0;36minit pydantic.__init__\u001b[0;34m()\u001b[0m\n",
      "File \u001b[0;32m~/anaconda3/envs/mat2vec/lib/python3.8/site-packages/pydantic/dataclasses.py:55\u001b[0m, in \u001b[0;36minit pydantic.dataclasses\u001b[0;34m()\u001b[0m\n",
      "File \u001b[0;32m~/anaconda3/envs/mat2vec/lib/python3.8/site-packages/pydantic/main.py:120\u001b[0m, in \u001b[0;36minit pydantic.main\u001b[0;34m()\u001b[0m\n",
      "\u001b[0;31mTypeError\u001b[0m: dataclass_transform() got an unexpected keyword argument 'field_specifiers'"
     ]
    }
   ],
   "source": [
    "from mat2vec.processing import MaterialsTextProcessor\n",
    "text_processor = MaterialsTextProcessor()\n",
    "w2v_model.wv.most_similar(\n",
    "    positive=[\"cubic\", text_processor.normalized_formula(\"CdSe\")], \n",
    "    negative=[text_processor.normalized_formula(\"GaAs\")], topn=1)"
   ]
  },
  {
   "cell_type": "markdown",
   "id": "a9c9b4ba-d7ec-43d6-b741-ce22884e44c7",
   "metadata": {},
   "source": [
    "## Using with CBFV\n",
    "\n",
    "Following the following:\n",
    "    \n",
    "    https://pypi.org/project/CBFV/"
   ]
  },
  {
   "cell_type": "code",
   "execution_count": 15,
   "id": "a5e65634-079c-41c0-ad04-d5947d19a737",
   "metadata": {},
   "outputs": [
    {
     "name": "stdout",
     "output_type": "stream",
     "text": [
      "  formula    target\n",
      "0   Tc1V1  248.5390\n",
      "1  Cu1Dy1   66.8444\n",
      "2   Cd3N2   91.5034\n"
     ]
    }
   ],
   "source": [
    "import pandas as pd\n",
    "\n",
    "data = {\n",
    "    'formula': ['Tc1V1', 'Cu1Dy1', 'Cd3N2'],\n",
    "    'target': [248.539, 66.8444, 91.5034]\n",
    "}\n",
    "\n",
    "df = pd.DataFrame(data)\n",
    "print(df)"
   ]
  },
  {
   "cell_type": "code",
   "execution_count": 17,
   "id": "1f4a3abf-07e2-4c2c-a260-f7b54fc45fff",
   "metadata": {},
   "outputs": [
    {
     "name": "stderr",
     "output_type": "stream",
     "text": [
      "Processing Input Data: 100%|█████████████████████| 3/3 [00:00<00:00, 330.58it/s]\n"
     ]
    },
    {
     "name": "stdout",
     "output_type": "stream",
     "text": [
      "\tFeaturizing Compositions...\n"
     ]
    },
    {
     "name": "stderr",
     "output_type": "stream",
     "text": [
      "Assigning Features...: 100%|████████████████████| 3/3 [00:00<00:00, 1549.62it/s]\n"
     ]
    },
    {
     "name": "stdout",
     "output_type": "stream",
     "text": [
      "\tCreating Pandas Objects...\n"
     ]
    }
   ],
   "source": [
    "from CBFV import composition\n",
    "X, y, formulae, skipped = composition.generate_features(df,\n",
    "                                                        elem_prop='mat2vec',\n",
    "                                                        drop_duplicates=False,\n",
    "                                                        extend_features=True,\n",
    "                                                        sum_feat=True)"
   ]
  },
  {
   "cell_type": "code",
   "execution_count": 18,
   "id": "604e7e12-880c-40e5-84ab-59f5222eae87",
   "metadata": {},
   "outputs": [
    {
     "data": {
      "text/html": [
       "<div>\n",
       "<style scoped>\n",
       "    .dataframe tbody tr th:only-of-type {\n",
       "        vertical-align: middle;\n",
       "    }\n",
       "\n",
       "    .dataframe tbody tr th {\n",
       "        vertical-align: top;\n",
       "    }\n",
       "\n",
       "    .dataframe thead th {\n",
       "        text-align: right;\n",
       "    }\n",
       "</style>\n",
       "<table border=\"1\" class=\"dataframe\">\n",
       "  <thead>\n",
       "    <tr style=\"text-align: right;\">\n",
       "      <th></th>\n",
       "      <th>sum_0</th>\n",
       "      <th>sum_1</th>\n",
       "      <th>sum_2</th>\n",
       "      <th>sum_3</th>\n",
       "      <th>sum_4</th>\n",
       "      <th>sum_5</th>\n",
       "      <th>sum_6</th>\n",
       "      <th>sum_7</th>\n",
       "      <th>sum_8</th>\n",
       "      <th>sum_9</th>\n",
       "      <th>...</th>\n",
       "      <th>mode_190</th>\n",
       "      <th>mode_191</th>\n",
       "      <th>mode_192</th>\n",
       "      <th>mode_193</th>\n",
       "      <th>mode_194</th>\n",
       "      <th>mode_195</th>\n",
       "      <th>mode_196</th>\n",
       "      <th>mode_197</th>\n",
       "      <th>mode_198</th>\n",
       "      <th>mode_199</th>\n",
       "    </tr>\n",
       "  </thead>\n",
       "  <tbody>\n",
       "    <tr>\n",
       "      <th>0</th>\n",
       "      <td>0.481838</td>\n",
       "      <td>0.417643</td>\n",
       "      <td>-0.072802</td>\n",
       "      <td>0.198125</td>\n",
       "      <td>-0.120732</td>\n",
       "      <td>0.716470</td>\n",
       "      <td>1.477280</td>\n",
       "      <td>0.120145</td>\n",
       "      <td>-0.007973</td>\n",
       "      <td>-0.066933</td>\n",
       "      <td>...</td>\n",
       "      <td>-0.080332</td>\n",
       "      <td>-0.406145</td>\n",
       "      <td>-0.071371</td>\n",
       "      <td>-0.270527</td>\n",
       "      <td>-0.085024</td>\n",
       "      <td>-0.092754</td>\n",
       "      <td>-0.181838</td>\n",
       "      <td>0.012626</td>\n",
       "      <td>-0.219783</td>\n",
       "      <td>0.357757</td>\n",
       "    </tr>\n",
       "    <tr>\n",
       "      <th>1</th>\n",
       "      <td>0.228595</td>\n",
       "      <td>0.279039</td>\n",
       "      <td>0.401325</td>\n",
       "      <td>0.188072</td>\n",
       "      <td>-0.578382</td>\n",
       "      <td>0.336842</td>\n",
       "      <td>1.341212</td>\n",
       "      <td>-0.029622</td>\n",
       "      <td>-0.107175</td>\n",
       "      <td>0.081095</td>\n",
       "      <td>...</td>\n",
       "      <td>-0.020719</td>\n",
       "      <td>-0.456917</td>\n",
       "      <td>-0.028008</td>\n",
       "      <td>-0.351541</td>\n",
       "      <td>0.052717</td>\n",
       "      <td>-0.135682</td>\n",
       "      <td>0.207032</td>\n",
       "      <td>0.413363</td>\n",
       "      <td>-0.320554</td>\n",
       "      <td>0.054848</td>\n",
       "    </tr>\n",
       "    <tr>\n",
       "      <th>2</th>\n",
       "      <td>-0.739523</td>\n",
       "      <td>1.585320</td>\n",
       "      <td>1.064464</td>\n",
       "      <td>0.819144</td>\n",
       "      <td>-1.886418</td>\n",
       "      <td>0.097110</td>\n",
       "      <td>3.247939</td>\n",
       "      <td>0.970506</td>\n",
       "      <td>0.990861</td>\n",
       "      <td>-1.249165</td>\n",
       "      <td>...</td>\n",
       "      <td>-0.094719</td>\n",
       "      <td>0.026034</td>\n",
       "      <td>0.118159</td>\n",
       "      <td>-0.199655</td>\n",
       "      <td>-0.239464</td>\n",
       "      <td>-0.263232</td>\n",
       "      <td>0.177946</td>\n",
       "      <td>0.415537</td>\n",
       "      <td>-0.319665</td>\n",
       "      <td>0.051403</td>\n",
       "    </tr>\n",
       "  </tbody>\n",
       "</table>\n",
       "<p>3 rows × 1400 columns</p>\n",
       "</div>"
      ],
      "text/plain": [
       "      sum_0     sum_1     sum_2     sum_3     sum_4     sum_5     sum_6  \\\n",
       "0  0.481838  0.417643 -0.072802  0.198125 -0.120732  0.716470  1.477280   \n",
       "1  0.228595  0.279039  0.401325  0.188072 -0.578382  0.336842  1.341212   \n",
       "2 -0.739523  1.585320  1.064464  0.819144 -1.886418  0.097110  3.247939   \n",
       "\n",
       "      sum_7     sum_8     sum_9  ...  mode_190  mode_191  mode_192  mode_193  \\\n",
       "0  0.120145 -0.007973 -0.066933  ... -0.080332 -0.406145 -0.071371 -0.270527   \n",
       "1 -0.029622 -0.107175  0.081095  ... -0.020719 -0.456917 -0.028008 -0.351541   \n",
       "2  0.970506  0.990861 -1.249165  ... -0.094719  0.026034  0.118159 -0.199655   \n",
       "\n",
       "   mode_194  mode_195  mode_196  mode_197  mode_198  mode_199  \n",
       "0 -0.085024 -0.092754 -0.181838  0.012626 -0.219783  0.357757  \n",
       "1  0.052717 -0.135682  0.207032  0.413363 -0.320554  0.054848  \n",
       "2 -0.239464 -0.263232  0.177946  0.415537 -0.319665  0.051403  \n",
       "\n",
       "[3 rows x 1400 columns]"
      ]
     },
     "execution_count": 18,
     "metadata": {},
     "output_type": "execute_result"
    }
   ],
   "source": [
    "X"
   ]
  },
  {
   "cell_type": "code",
   "execution_count": 19,
   "id": "7fafdd38-1cad-4de1-ae04-8c3035375736",
   "metadata": {},
   "outputs": [
    {
     "data": {
      "text/plain": [
       "0    248.5390\n",
       "1     66.8444\n",
       "2     91.5034\n",
       "Name: target, dtype: float64"
      ]
     },
     "execution_count": 19,
     "metadata": {},
     "output_type": "execute_result"
    }
   ],
   "source": [
    "y"
   ]
  },
  {
   "cell_type": "code",
   "execution_count": 20,
   "id": "b5bf0c85-68c4-4924-98e7-92423824ff3c",
   "metadata": {},
   "outputs": [
    {
     "data": {
      "text/plain": [
       "0     Tc1V1\n",
       "1    Cu1Dy1\n",
       "2     Cd3N2\n",
       "Name: formula, dtype: object"
      ]
     },
     "execution_count": 20,
     "metadata": {},
     "output_type": "execute_result"
    }
   ],
   "source": [
    "formulae"
   ]
  }
 ],
 "metadata": {
  "kernelspec": {
   "display_name": "Python 3 (ipykernel)",
   "language": "python",
   "name": "python3"
  },
  "language_info": {
   "codemirror_mode": {
    "name": "ipython",
    "version": 3
   },
   "file_extension": ".py",
   "mimetype": "text/x-python",
   "name": "python",
   "nbconvert_exporter": "python",
   "pygments_lexer": "ipython3",
   "version": "3.8.18"
  }
 },
 "nbformat": 4,
 "nbformat_minor": 5
}
