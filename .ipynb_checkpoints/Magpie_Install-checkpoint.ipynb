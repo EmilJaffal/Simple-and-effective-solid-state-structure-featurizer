{
 "cells": [
  {
   "cell_type": "markdown",
   "id": "3f27a066-4481-4b5e-a7f2-9321f1ec6b58",
   "metadata": {
    "slideshow": {
     "slide_type": ""
    },
    "tags": []
   },
   "source": [
    "## Magpie Installation\n",
    "\n",
    "Magpie (Material-Agnostic Platform for Informatics and Exploration) is an extensible platform for using machine learning to predict the properties of materials.\n",
    "\n",
    "Begin here:\n",
    "https://bitbucket.org/wolverton/magpie/src/master/README.md\n",
    "\n",
    "tutorial:\n",
    "https://wolverton.bitbucket.io/installation.html\n",
    "\n",
    "### Followed Mac installation\n",
    "\n",
    "***Required software***\n",
    "\n",
    "- JDK (https://docs.oracle.com/javase/8/docs/technotes/guides/install/mac_jdk.html#install)\n",
    "  - arm system, downloaded ARM64 Compressed Archive\n",
    "  - Seems that java points to older 1.8 instead of JDK 21 - will try to continue from here\n",
    "- Git (https://git-scm.com/book/en/v2/Getting-Started-Installing-Git)\n",
    "- libraries: pandas, scikit-learn, scipy, and numpy.\n",
    "\n",
    "***Downloading Magpie***\n",
    "\n",
    "(location: /Users/emiljaffal/magpie) \n",
    "in terminal:\n",
    "\n",
    "    cd magpie\n",
    "    git clone https://bitbucket.org/wolverton/magpie.git\n",
    "\n",
    "***Compiling Magpie with Gradle***\n",
    "\n",
    "in terminal:\n",
    "\n",
    "within magpie folder (cd emiljaffal/magpie)\n",
    "\n",
    "    cd magpie\n",
    "    ./gradlew jar\n",
    "\n",
    "ERROR: JAVA_HOME is set to an invalid directory: /opt/homebrew/opt/openjdk/libexec/openjdk\n",
    "\n",
    "Please set the JAVA_HOME variable in your environment to match the\n",
    "location of your Java installation.\n",
    "\n",
    "Followed this to resolve:\n",
    "        \n",
    "    https://stackoverflow.com/questions/34326437/java-home-is-set-to-an-invalid-directory-while-running-gradlew-on-osx\n",
    "\n",
    "in terminal:\n",
    "\n",
    "    cd\n",
    "    export JAVA_HOME=`/usr/libexec/java_home`\n",
    "    echo export \"JAVA_HOME=\\$(/usr/libexec/java_home)\" >> ~/.bash_profile\n",
    "    cd magpie\n",
    "    ./gradlew jar\n",
    "\n",
    "FAILURE: Build failed with an exception.\n",
    "\n",
    "* Where:\n",
    "Build file '/Users/emiljaffal/magpie/build.gradle' line: 77\n",
    "\n",
    "* What went wrong:\n",
    "A problem occurred evaluating root project 'magpie'.\n",
    "> Could not resolve all files for configuration ':compile'.\n",
    "   > Could not resolve project :vassal.\n",
    "     Required by:\n",
    "         project :\n",
    "      > Project : declares a dependency from configuration 'compile' to configuration 'default' which is not declared in the descriptor for project :vassal.\n",
    "   > Could not resolve project :expr.\n",
    "     Required by:\n",
    "         project :\n",
    "      > Project : declares a dependency from configuration 'compile' to configuration 'default' which is not declared in the descriptor for project :expr.\n",
    "\n",
    "* Try:\n",
    "Run with --stacktrace option to get the stack trace. Run with --info or --debug option to get more log output. Run with --scan to get full insights.\n",
    "\n",
    "forum:\n",
    "https://bitbucket.org/wolverton/magpie/issues/19/gradle-build-error\n",
    "error seemed applicable\n",
    "\n",
    "vassl and expr folders seemed empty, did\n",
    "git submodule update --init\n",
    "\n",
    "new error:\n",
    "\n",
    "* Where:\n",
    "Build file '/Users/emiljaffal/magpie/lib/vassal/build.gradle'\n",
    "\n",
    "* What went wrong:\n",
    "Could not compile build file '/Users/emiljaffal/magpie/lib/vassal/build.gradle'.\n",
    "> startup failed:\n",
    "  General error during semantic analysis: Unsupported class file major version 65\n",
    "\n",
    "Created the following issue on the forum:\n",
    "\n",
    "    https://bitbucket.org/wolverton/magpie/issues/352/gradle-build-failed"
   ]
  },
  {
   "cell_type": "markdown",
   "id": "013562b7",
   "metadata": {},
   "source": [
    "## Using with CBFV\n",
    "\n",
    "Following the following:\n",
    "    \n",
    "    https://pypi.org/project/CBFV/"
   ]
  },
  {
   "cell_type": "code",
   "execution_count": 2,
   "id": "7f151b8d-1415-418b-9392-3455b0f48b06",
   "metadata": {},
   "outputs": [
    {
     "name": "stdout",
     "output_type": "stream",
     "text": [
      "  formula    target\n",
      "0   Tc1V1  248.5390\n",
      "1  Cu1Dy1   66.8444\n",
      "2   Cd3N2   91.5034\n"
     ]
    }
   ],
   "source": [
    "import pandas as pd\n",
    "\n",
    "data = {\n",
    "    'formula': ['Tc1V1', 'Cu1Dy1', 'Cd3N2'],\n",
    "    'target': [248.539, 66.8444, 91.5034]\n",
    "}\n",
    "\n",
    "df = pd.DataFrame(data)\n",
    "print(df)"
   ]
  },
  {
   "cell_type": "code",
   "execution_count": 3,
   "id": "33dad57d",
   "metadata": {},
   "outputs": [
    {
     "name": "stderr",
     "output_type": "stream",
     "text": [
      "Processing Input Data: 100%|██████████| 3/3 [00:00<00:00, 1534.31it/s]\n"
     ]
    },
    {
     "name": "stdout",
     "output_type": "stream",
     "text": [
      "\tFeaturizing Compositions...\n"
     ]
    },
    {
     "name": "stderr",
     "output_type": "stream",
     "text": [
      "Assigning Features...: 100%|██████████| 3/3 [00:00<00:00, 1381.83it/s]"
     ]
    },
    {
     "name": "stdout",
     "output_type": "stream",
     "text": [
      "\tCreating Pandas Objects...\n"
     ]
    },
    {
     "name": "stderr",
     "output_type": "stream",
     "text": [
      "\n"
     ]
    }
   ],
   "source": [
    "from CBFV import composition\n",
    "X, y, formulae, skipped = composition.generate_features(df,\n",
    "                                                        elem_prop='magpie',\n",
    "                                                        drop_duplicates=False,\n",
    "                                                        extend_features=True,\n",
    "                                                        sum_feat=True)"
   ]
  },
  {
   "cell_type": "code",
   "execution_count": 7,
   "id": "26bfd4b9-7053-4c83-85f7-f7400675f369",
   "metadata": {},
   "outputs": [
    {
     "data": {
      "text/html": [
       "<div>\n",
       "<style scoped>\n",
       "    .dataframe tbody tr th:only-of-type {\n",
       "        vertical-align: middle;\n",
       "    }\n",
       "\n",
       "    .dataframe tbody tr th {\n",
       "        vertical-align: top;\n",
       "    }\n",
       "\n",
       "    .dataframe thead th {\n",
       "        text-align: right;\n",
       "    }\n",
       "</style>\n",
       "<table border=\"1\" class=\"dataframe\">\n",
       "  <thead>\n",
       "    <tr style=\"text-align: right;\">\n",
       "      <th></th>\n",
       "      <th>avg_Atomic_Number</th>\n",
       "      <th>avg_Atomic_Weight</th>\n",
       "      <th>avg_Period</th>\n",
       "      <th>avg_group</th>\n",
       "      <th>avg_families</th>\n",
       "      <th>avg_Metal</th>\n",
       "      <th>avg_Nonmetal</th>\n",
       "      <th>avg_Metalliod</th>\n",
       "      <th>avg_Mendeleev_Number</th>\n",
       "      <th>avg_l_quantum_number</th>\n",
       "      <th>...</th>\n",
       "      <th>mode_polarizability(A^3)</th>\n",
       "      <th>mode_Melting_point_(K)</th>\n",
       "      <th>mode_Boiling_Point_(K)</th>\n",
       "      <th>mode_Density_(g/mL)</th>\n",
       "      <th>mode_specific_heat_(J/g_K)_</th>\n",
       "      <th>mode_heat_of_fusion_(kJ/mol)_</th>\n",
       "      <th>mode_heat_of_vaporization_(kJ/mol)_</th>\n",
       "      <th>mode_thermal_conductivity_(W/(m_K))_</th>\n",
       "      <th>mode_heat_atomization(kJ/mol)</th>\n",
       "      <th>mode_Cohesive_energy</th>\n",
       "    </tr>\n",
       "  </thead>\n",
       "  <tbody>\n",
       "    <tr>\n",
       "      <th>0</th>\n",
       "      <td>33.0</td>\n",
       "      <td>74.424350</td>\n",
       "      <td>4.5</td>\n",
       "      <td>6.0</td>\n",
       "      <td>4.0</td>\n",
       "      <td>1.0</td>\n",
       "      <td>0.0</td>\n",
       "      <td>0.0</td>\n",
       "      <td>49.5</td>\n",
       "      <td>2.0</td>\n",
       "      <td>...</td>\n",
       "      <td>11.4</td>\n",
       "      <td>2163.15</td>\n",
       "      <td>3653.15</td>\n",
       "      <td>6.11</td>\n",
       "      <td>0.21</td>\n",
       "      <td>20.900</td>\n",
       "      <td>453.00</td>\n",
       "      <td>30.7</td>\n",
       "      <td>514.0</td>\n",
       "      <td>5.31</td>\n",
       "    </tr>\n",
       "    <tr>\n",
       "      <th>1</th>\n",
       "      <td>47.5</td>\n",
       "      <td>113.023000</td>\n",
       "      <td>5.0</td>\n",
       "      <td>7.0</td>\n",
       "      <td>3.5</td>\n",
       "      <td>1.0</td>\n",
       "      <td>0.0</td>\n",
       "      <td>0.0</td>\n",
       "      <td>47.5</td>\n",
       "      <td>2.5</td>\n",
       "      <td>...</td>\n",
       "      <td>6.7</td>\n",
       "      <td>1356.15</td>\n",
       "      <td>2840.15</td>\n",
       "      <td>8.55</td>\n",
       "      <td>0.17</td>\n",
       "      <td>11.060</td>\n",
       "      <td>230.10</td>\n",
       "      <td>10.7</td>\n",
       "      <td>291.0</td>\n",
       "      <td>3.04</td>\n",
       "    </tr>\n",
       "    <tr>\n",
       "      <th>2</th>\n",
       "      <td>31.6</td>\n",
       "      <td>73.049296</td>\n",
       "      <td>3.8</td>\n",
       "      <td>13.2</td>\n",
       "      <td>5.2</td>\n",
       "      <td>0.6</td>\n",
       "      <td>0.4</td>\n",
       "      <td>0.0</td>\n",
       "      <td>74.8</td>\n",
       "      <td>0.4</td>\n",
       "      <td>...</td>\n",
       "      <td>7.2</td>\n",
       "      <td>594.05</td>\n",
       "      <td>1038.15</td>\n",
       "      <td>8.65</td>\n",
       "      <td>0.23</td>\n",
       "      <td>6.192</td>\n",
       "      <td>99.57</td>\n",
       "      <td>96.8</td>\n",
       "      <td>112.0</td>\n",
       "      <td>1.16</td>\n",
       "    </tr>\n",
       "  </tbody>\n",
       "</table>\n",
       "<p>3 rows × 264 columns</p>\n",
       "</div>"
      ],
      "text/plain": [
       "   avg_Atomic_Number  avg_Atomic_Weight  avg_Period  avg_group  avg_families  \\\n",
       "0               33.0          74.424350         4.5        6.0           4.0   \n",
       "1               47.5         113.023000         5.0        7.0           3.5   \n",
       "2               31.6          73.049296         3.8       13.2           5.2   \n",
       "\n",
       "   avg_Metal  avg_Nonmetal  avg_Metalliod  avg_Mendeleev_Number  \\\n",
       "0        1.0           0.0            0.0                  49.5   \n",
       "1        1.0           0.0            0.0                  47.5   \n",
       "2        0.6           0.4            0.0                  74.8   \n",
       "\n",
       "   avg_l_quantum_number  ...  mode_polarizability(A^3)  \\\n",
       "0                   2.0  ...                      11.4   \n",
       "1                   2.5  ...                       6.7   \n",
       "2                   0.4  ...                       7.2   \n",
       "\n",
       "   mode_Melting_point_(K)  mode_Boiling_Point_(K)  mode_Density_(g/mL)  \\\n",
       "0                 2163.15                 3653.15                 6.11   \n",
       "1                 1356.15                 2840.15                 8.55   \n",
       "2                  594.05                 1038.15                 8.65   \n",
       "\n",
       "   mode_specific_heat_(J/g_K)_  mode_heat_of_fusion_(kJ/mol)_  \\\n",
       "0                         0.21                         20.900   \n",
       "1                         0.17                         11.060   \n",
       "2                         0.23                          6.192   \n",
       "\n",
       "   mode_heat_of_vaporization_(kJ/mol)_  mode_thermal_conductivity_(W/(m_K))_  \\\n",
       "0                               453.00                                  30.7   \n",
       "1                               230.10                                  10.7   \n",
       "2                                99.57                                  96.8   \n",
       "\n",
       "   mode_heat_atomization(kJ/mol)  mode_Cohesive_energy  \n",
       "0                          514.0                  5.31  \n",
       "1                          291.0                  3.04  \n",
       "2                          112.0                  1.16  \n",
       "\n",
       "[3 rows x 264 columns]"
      ]
     },
     "execution_count": 7,
     "metadata": {},
     "output_type": "execute_result"
    }
   ],
   "source": [
    "X"
   ]
  },
  {
   "cell_type": "code",
   "execution_count": 8,
   "id": "4dcd7740-7310-4a08-9b64-458fc3511f3a",
   "metadata": {},
   "outputs": [
    {
     "data": {
      "text/plain": [
       "0    248.5390\n",
       "1     66.8444\n",
       "2     91.5034\n",
       "Name: target, dtype: float64"
      ]
     },
     "execution_count": 8,
     "metadata": {},
     "output_type": "execute_result"
    }
   ],
   "source": [
    "y"
   ]
  },
  {
   "cell_type": "code",
   "execution_count": 9,
   "id": "032561b0-3b1d-4c43-a7ee-9e695cc8abd4",
   "metadata": {},
   "outputs": [
    {
     "data": {
      "text/plain": [
       "0     Tc1V1\n",
       "1    Cu1Dy1\n",
       "2     Cd3N2\n",
       "Name: formula, dtype: object"
      ]
     },
     "execution_count": 9,
     "metadata": {},
     "output_type": "execute_result"
    }
   ],
   "source": [
    "formulae"
   ]
  },
  {
   "cell_type": "code",
   "execution_count": 1,
   "id": "d9bec07c-e6ad-41ad-90c7-e5f3e80018e0",
   "metadata": {},
   "outputs": [
    {
     "ename": "NameError",
     "evalue": "name 'h' is not defined",
     "output_type": "error",
     "traceback": [
      "\u001b[0;31m---------------------------------------------------------------------------\u001b[0m",
      "\u001b[0;31mNameError\u001b[0m                                 Traceback (most recent call last)",
      "Cell \u001b[0;32mIn[1], line 1\u001b[0m\n\u001b[0;32m----> 1\u001b[0m \u001b[43mh\u001b[49m\n",
      "\u001b[0;31mNameError\u001b[0m: name 'h' is not defined"
     ]
    }
   ],
   "source": [
    "h"
   ]
  },
  {
   "cell_type": "code",
   "execution_count": null,
   "id": "42b08473-c5cb-41c1-a16d-f61b53d09bae",
   "metadata": {},
   "outputs": [],
   "source": []
  }
 ],
 "metadata": {
  "kernelspec": {
   "display_name": "Python 3 (ipykernel)",
   "language": "python",
   "name": "python3"
  },
  "language_info": {
   "codemirror_mode": {
    "name": "ipython",
    "version": 3
   },
   "file_extension": ".py",
   "mimetype": "text/x-python",
   "name": "python",
   "nbconvert_exporter": "python",
   "pygments_lexer": "ipython3",
   "version": "3.12.1"
  }
 },
 "nbformat": 4,
 "nbformat_minor": 5
}
