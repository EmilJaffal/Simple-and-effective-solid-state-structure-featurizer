{
 "cells": [
  {
   "cell_type": "markdown",
   "id": "daa8cef3-4be8-4f04-b85b-c35cdcdfef25",
   "metadata": {},
   "source": [
    "### ElemNet Installation\n",
    "\n",
    "ElemNet is a deep neural network model that takes only the elemental compositions as inputs and leverages artificial intelligence to automatically capture the essential chemistry to predict materials properties. ElemNet can automatically learn the chemical interactions and similarities between different elements which allows it to even predict the phase diagrams of chemical systems absent from the training dataset more accurately than the conventional machine learning models based on physical attributes levaraging domain knowledge.\n",
    "\n",
    "ElemNet is a 17-layered fully connected network for the prediction of formation energy (enthalpy) from elemental compositions only. This repository contains the model weights and a Jupyter notebook for making predictions using the ElemNet model.\n",
    "\n",
    "Input: Takes a 2D numpy array with the rows representing different compounds, and columns representing the elemental compositions with 86 elements in the set elements- ['H', 'Li', 'Be', 'B', 'C', 'N', 'O', 'F', 'Na', 'Mg', 'Al', 'Si', 'P', 'S', 'Cl', 'K', 'Ca', 'Sc', 'Ti', 'V', 'Cr', 'Mn', 'Fe', 'Co', 'Ni', 'Cu', 'Zn', 'Ga', 'Ge', 'As', 'Se', 'Br', 'Kr', 'Rb', 'Sr', 'Y', 'Zr', 'Nb', 'Mo', 'Tc', 'Ru', 'Rh', 'Pd', 'Ag', 'Cd', 'In', 'Sn', 'Sb', 'Te', 'I', 'Xe', 'Cs', 'Ba', 'La', 'Ce', 'Pr', 'Nd', 'Pm', 'Sm', 'Eu', 'Gd', 'Tb', 'Dy', 'Ho', 'Er', 'Tm', 'Yb', 'Lu', 'Hf', 'Ta', 'W', 'Re', 'Os', 'Ir', 'Pt', 'Au', 'Hg', 'Tl', 'Pb', 'Bi', 'Ac', 'Th', 'Pa', 'U', 'Np', 'Pu'], elemental compositon does not contain any element from ['He', 'Ne', 'Ar', 'Po', 'At','Rn','Fr','Ra']\n",
    "\n",
    "Output: Returns a 1D numpy array with the predicted formation energy\n",
    "\n",
    "Installation directions here:\n",
    "\n",
    "    https://github.com/NU-CUCIS/ElemNet/blob/master/README.md\n",
    "    \n",
    "### Installation requirements\n",
    "The basic requirement for re-using these environments are a Python 3.6.3 Jupyter environment with the packages listed in requirements.txt.\n",
    "\n",
    "Some analyses required the use of Magpie, which requires Java JDK 1.7 or greater. See [the Magpie documentation for details].\n",
    "\n",
    "    ERROR: No matching distribution found for numpy==1.22.0\n",
    "    solution: upgrade python to 3.8+ - used brew upgrade python\n",
    "    not sure if it worked? Probably did?"
   ]
  },
  {
   "cell_type": "code",
   "execution_count": 1,
   "id": "262c5f80-e137-4a6f-9840-4137762afb9e",
   "metadata": {},
   "outputs": [
    {
     "name": "stderr",
     "output_type": "stream",
     "text": [
      "/Users/emiljaffal/anaconda3/envs/elemnet/lib/python3.7/site-packages/sklearn/utils/validation.py:37: DeprecationWarning: distutils Version classes are deprecated. Use packaging.version instead.\n",
      "  LARGE_SPARSE_SUPPORTED = LooseVersion(scipy_version) >= '0.14.0'\n"
     ]
    }
   ],
   "source": [
    "# Requirements:\n",
    "import pandas as pd, warnings, sklearn, numpy as np, matplotlib.pyplot as plt\n",
    "warnings.filterwarnings('ignore')"
   ]
  },
  {
   "cell_type": "markdown",
   "id": "146abe9e",
   "metadata": {},
   "source": [
    "### Running the code\n",
    "\n",
    "According to the readme in the elemnet folder, can run the code by passing a sample config file to the dl_regressors.py as follows:\n",
    "\n",
    "python dl_regressors.py --config_file sample/sample-run.config\n",
    "\n",
    "The config file defines the loss_type, training_data_path, test_data_path, label, input_type [elements_tl for ElemNet] and other runtime parameters. For transfer learning used in paper [2], you need to set 'model_path' to the model checkpoint trained on the larger dataset (OQMD in our case) [e.g. \"model_path\":\"sample/sample_model\"] in the config file. The output log from this sample run is provided in the sample/sample.log file.\n",
    "\n",
    "However, when running \n",
    "\n",
    "    python dl_regressors.py --config_file sample/sample-run.config\n",
    "\n",
    "I get the following error message:\n",
    " \n",
    "    zsh: illegal hardware instruction  python dl_regressors.py --config_file sample/sample-run.config\n",
    "    \n",
    "I didn't think much of it and just moved onto to below."
   ]
  },
  {
   "cell_type": "markdown",
   "id": "88b508d0",
   "metadata": {},
   "source": [
    "## Testing some notebooks\n",
    "\n",
    "For the most part, there's a good walk through of a lot of modules and many notebooks are included so you can copy and paste accordingly after grabbing all the necessary files. The only problem I walked into below was with the pymatgen submodules, which was an easy fix. Updates will have to be made throughout the repository so users can avoid these problems.\n",
    "\n",
    "Notebooks vary from preprocessing data, making training models, making predictions, evaluating predictions, etc."
   ]
  },
  {
   "cell_type": "markdown",
   "id": "90fce4b8",
   "metadata": {},
   "source": [
    "# Find Similar Compounds\n",
    "Given our list of \"interesting\" compounds, see if we can find any similar stable compounds in the OQMD"
   ]
  },
  {
   "cell_type": "code",
   "execution_count": 21,
   "id": "c62a5cc4",
   "metadata": {},
   "outputs": [
    {
     "name": "stdout",
     "output_type": "stream",
     "text": [
      "/Users/emiljaffal\n"
     ]
    }
   ],
   "source": [
    "cd"
   ]
  },
  {
   "cell_type": "code",
   "execution_count": 22,
   "id": "f1eb7b00",
   "metadata": {},
   "outputs": [],
   "source": [
    "import pandas as pd\n",
    "import json"
   ]
  },
  {
   "cell_type": "code",
   "execution_count": 23,
   "id": "41fd444d",
   "metadata": {},
   "outputs": [],
   "source": [
    "import pymatgen\n",
    "from pymatgen.core.composition import Composition\n",
    "#Had to adjust from pymatgen import composition, \n",
    "#see following: https://matsci.org/t/python-problem-with-pymatgen/35720"
   ]
  },
  {
   "cell_type": "markdown",
   "id": "d48044f3",
   "metadata": {},
   "source": [
    "## Load in Stable Compounds from OQMD\n",
    "Reading from the datafile that was used to generate the training set for the DL model."
   ]
  },
  {
   "cell_type": "code",
   "execution_count": 24,
   "id": "13a25206",
   "metadata": {},
   "outputs": [
    {
     "name": "stdout",
     "output_type": "stream",
     "text": [
      "Read 506114 entries\n"
     ]
    }
   ],
   "source": [
    "oqmd_all = pd.read_csv('desktop/elemnet/elemnet/data/oqmd_all.data', delim_whitespace=True)\n",
    "print('Read %d entries'%len(oqmd_all))"
   ]
  },
  {
   "cell_type": "code",
   "execution_count": 25,
   "id": "c1a8e6ba",
   "metadata": {},
   "outputs": [],
   "source": [
    "oqmd_all['stability'] = pd.to_numeric(oqmd_all['stability'], 'coerce')"
   ]
  },
  {
   "cell_type": "code",
   "execution_count": 26,
   "id": "ffbb7198",
   "metadata": {},
   "outputs": [
    {
     "name": "stdout",
     "output_type": "stream",
     "text": [
      "21947 stable compounds\n"
     ]
    }
   ],
   "source": [
    "oqmd_all.query('stability <= 0', inplace=True)\n",
    "print('%d stable compounds'%len(oqmd_all))"
   ]
  },
  {
   "cell_type": "markdown",
   "id": "5f79652a",
   "metadata": {},
   "source": [
    "### Generate Lookup Values for Each Entry\n",
    "Classify each entry by the stoichiometry and group of each element. Examples:\n",
    "- NaCl is 50% of a group 1 element and 50% of group 17\n",
    "- NaKCl2 is 25% of two different group 1 elements and 50% of a group 17 element"
   ]
  },
  {
   "cell_type": "code",
   "execution_count": 27,
   "id": "aa70d9bc",
   "metadata": {},
   "outputs": [],
   "source": [
    "oqmd_all['comp_obj'] = [Composition(x) for x in oqmd_all['comp']]"
   ]
  },
  {
   "cell_type": "markdown",
   "id": "b68c45b6",
   "metadata": {},
   "source": [
    "Compute lookup values"
   ]
  },
  {
   "cell_type": "code",
   "execution_count": 28,
   "id": "f519a38c",
   "metadata": {},
   "outputs": [],
   "source": [
    "def get_prototype(comp):\n",
    "    return tuple(sorted((e.group, y) for e,y in comp.fractional_composition.items())) "
   ]
  },
  {
   "cell_type": "code",
   "execution_count": 29,
   "id": "8c2466a5",
   "metadata": {},
   "outputs": [],
   "source": [
    "oqmd_all['prototype'] = oqmd_all['comp_obj'].apply(get_prototype)"
   ]
  },
  {
   "cell_type": "markdown",
   "id": "84607ebb",
   "metadata": {},
   "source": [
    "Get list of examples for each prototype"
   ]
  },
  {
   "cell_type": "code",
   "execution_count": 30,
   "id": "ded5ca09",
   "metadata": {},
   "outputs": [],
   "source": [
    "prototypes = dict([(x,[c.get_integer_formula_and_factor()[0] for c in group['comp_obj']]) \n",
    "                   for x,group in oqmd_all.groupby('prototype')])"
   ]
  },
  {
   "cell_type": "code",
   "execution_count": 31,
   "id": "8c5013e2",
   "metadata": {},
   "outputs": [
    {
     "name": "stdout",
     "output_type": "stream",
     "text": [
      "Found 9211 prototypes\n"
     ]
    }
   ],
   "source": [
    "print('Found %d prototypes'%len(prototypes))"
   ]
  },
  {
   "cell_type": "markdown",
   "id": "9712ead7",
   "metadata": {},
   "source": [
    "## Find if Interesting Compositions are Similar to those in the OQMD\n",
    "Use the prototype list we worked up earlier"
   ]
  },
  {
   "cell_type": "code",
   "execution_count": 32,
   "id": "b18c336c",
   "metadata": {},
   "outputs": [
    {
     "ename": "FileNotFoundError",
     "evalue": "[Errno 2] No such file or directory: 'interesting_compounds.list'",
     "output_type": "error",
     "traceback": [
      "\u001b[0;31m---------------------------------------------------------------------------\u001b[0m",
      "\u001b[0;31mFileNotFoundError\u001b[0m                         Traceback (most recent call last)",
      "\u001b[0;32m/var/folders/lm/f09y84d57y9bnbzk3j1g4jnr0000gn/T/ipykernel_11226/1929382639.py\u001b[0m in \u001b[0;36m<module>\u001b[0;34m\u001b[0m\n\u001b[0;32m----> 1\u001b[0;31m \u001b[0minteresting_list\u001b[0m \u001b[0;34m=\u001b[0m \u001b[0mjson\u001b[0m\u001b[0;34m.\u001b[0m\u001b[0mload\u001b[0m\u001b[0;34m(\u001b[0m\u001b[0mopen\u001b[0m\u001b[0;34m(\u001b[0m\u001b[0;34m'interesting_compounds.list'\u001b[0m\u001b[0;34m)\u001b[0m\u001b[0;34m)\u001b[0m\u001b[0;34m\u001b[0m\u001b[0;34m\u001b[0m\u001b[0m\n\u001b[0m",
      "\u001b[0;31mFileNotFoundError\u001b[0m: [Errno 2] No such file or directory: 'interesting_compounds.list'"
     ]
    }
   ],
   "source": [
    "interesting_list = json.load(open('interesting_compounds.list'))"
   ]
  },
  {
   "cell_type": "code",
   "execution_count": 33,
   "id": "4c5a2eb3",
   "metadata": {},
   "outputs": [
    {
     "ename": "NameError",
     "evalue": "name 'interesting_list' is not defined",
     "output_type": "error",
     "traceback": [
      "\u001b[0;31m---------------------------------------------------------------------------\u001b[0m",
      "\u001b[0;31mNameError\u001b[0m                                 Traceback (most recent call last)",
      "\u001b[0;32m/var/folders/lm/f09y84d57y9bnbzk3j1g4jnr0000gn/T/ipykernel_11226/2341291828.py\u001b[0m in \u001b[0;36m<module>\u001b[0;34m\u001b[0m\n\u001b[0;32m----> 1\u001b[0;31m \u001b[0minteresting_list\u001b[0m \u001b[0;34m=\u001b[0m \u001b[0mpd\u001b[0m\u001b[0;34m.\u001b[0m\u001b[0mDataFrame\u001b[0m\u001b[0;34m(\u001b[0m\u001b[0;34m{\u001b[0m\u001b[0;34m'composition'\u001b[0m\u001b[0;34m:\u001b[0m \u001b[0minteresting_list\u001b[0m\u001b[0;34m}\u001b[0m\u001b[0;34m)\u001b[0m\u001b[0;34m\u001b[0m\u001b[0;34m\u001b[0m\u001b[0m\n\u001b[0m",
      "\u001b[0;31mNameError\u001b[0m: name 'interesting_list' is not defined"
     ]
    }
   ],
   "source": [
    "interesting_list = pd.DataFrame({'composition': interesting_list})"
   ]
  },
  {
   "cell_type": "code",
   "execution_count": 34,
   "id": "f35ae6f2",
   "metadata": {},
   "outputs": [
    {
     "ename": "NameError",
     "evalue": "name 'interesting_list' is not defined",
     "output_type": "error",
     "traceback": [
      "\u001b[0;31m---------------------------------------------------------------------------\u001b[0m",
      "\u001b[0;31mNameError\u001b[0m                                 Traceback (most recent call last)",
      "\u001b[0;32m/var/folders/lm/f09y84d57y9bnbzk3j1g4jnr0000gn/T/ipykernel_11226/1969340570.py\u001b[0m in \u001b[0;36m<module>\u001b[0;34m\u001b[0m\n\u001b[0;32m----> 1\u001b[0;31m \u001b[0minteresting_list\u001b[0m\u001b[0;34m[\u001b[0m\u001b[0;34m'comp_obj'\u001b[0m\u001b[0;34m]\u001b[0m \u001b[0;34m=\u001b[0m \u001b[0;34m[\u001b[0m\u001b[0mComposition\u001b[0m\u001b[0;34m(\u001b[0m\u001b[0mx\u001b[0m\u001b[0;34m)\u001b[0m \u001b[0;32mfor\u001b[0m \u001b[0mx\u001b[0m \u001b[0;32min\u001b[0m \u001b[0minteresting_list\u001b[0m\u001b[0;34m[\u001b[0m\u001b[0;34m'composition'\u001b[0m\u001b[0;34m]\u001b[0m\u001b[0;34m]\u001b[0m\u001b[0;34m\u001b[0m\u001b[0;34m\u001b[0m\u001b[0m\n\u001b[0m",
      "\u001b[0;31mNameError\u001b[0m: name 'interesting_list' is not defined"
     ]
    }
   ],
   "source": [
    "interesting_list['comp_obj'] = [Composition(x) for x in interesting_list['composition']]"
   ]
  },
  {
   "cell_type": "code",
   "execution_count": 35,
   "id": "8859bc01",
   "metadata": {},
   "outputs": [
    {
     "ename": "NameError",
     "evalue": "name 'interesting_list' is not defined",
     "output_type": "error",
     "traceback": [
      "\u001b[0;31m---------------------------------------------------------------------------\u001b[0m",
      "\u001b[0;31mNameError\u001b[0m                                 Traceback (most recent call last)",
      "\u001b[0;32m/var/folders/lm/f09y84d57y9bnbzk3j1g4jnr0000gn/T/ipykernel_11226/490376238.py\u001b[0m in \u001b[0;36m<module>\u001b[0;34m\u001b[0m\n\u001b[0;32m----> 1\u001b[0;31m \u001b[0minteresting_list\u001b[0m\u001b[0;34m[\u001b[0m\u001b[0;34m'prototype'\u001b[0m\u001b[0;34m]\u001b[0m \u001b[0;34m=\u001b[0m \u001b[0minteresting_list\u001b[0m\u001b[0;34m[\u001b[0m\u001b[0;34m'comp_obj'\u001b[0m\u001b[0;34m]\u001b[0m\u001b[0;34m.\u001b[0m\u001b[0mapply\u001b[0m\u001b[0;34m(\u001b[0m\u001b[0mget_prototype\u001b[0m\u001b[0;34m)\u001b[0m\u001b[0;34m\u001b[0m\u001b[0;34m\u001b[0m\u001b[0m\n\u001b[0m",
      "\u001b[0;31mNameError\u001b[0m: name 'interesting_list' is not defined"
     ]
    }
   ],
   "source": [
    "interesting_list['prototype'] = interesting_list['comp_obj'].apply(get_prototype)"
   ]
  },
  {
   "cell_type": "code",
   "execution_count": 36,
   "id": "5d50541e",
   "metadata": {},
   "outputs": [
    {
     "ename": "NameError",
     "evalue": "name 'interesting_list' is not defined",
     "output_type": "error",
     "traceback": [
      "\u001b[0;31m---------------------------------------------------------------------------\u001b[0m",
      "\u001b[0;31mNameError\u001b[0m                                 Traceback (most recent call last)",
      "\u001b[0;32m/var/folders/lm/f09y84d57y9bnbzk3j1g4jnr0000gn/T/ipykernel_11226/3089813618.py\u001b[0m in \u001b[0;36m<module>\u001b[0;34m\u001b[0m\n\u001b[0;32m----> 1\u001b[0;31m \u001b[0minteresting_list\u001b[0m\u001b[0;34m[\u001b[0m\u001b[0;34m'similiar'\u001b[0m\u001b[0;34m]\u001b[0m \u001b[0;34m=\u001b[0m \u001b[0;34m[\u001b[0m\u001b[0mprototypes\u001b[0m\u001b[0;34m.\u001b[0m\u001b[0mget\u001b[0m\u001b[0;34m(\u001b[0m\u001b[0mx\u001b[0m\u001b[0;34m,\u001b[0m\u001b[0;34m[\u001b[0m\u001b[0;34m]\u001b[0m\u001b[0;34m)\u001b[0m \u001b[0;32mfor\u001b[0m \u001b[0mx\u001b[0m \u001b[0;32min\u001b[0m \u001b[0minteresting_list\u001b[0m\u001b[0;34m[\u001b[0m\u001b[0;34m'prototype'\u001b[0m\u001b[0;34m]\u001b[0m\u001b[0;34m]\u001b[0m\u001b[0;34m\u001b[0m\u001b[0;34m\u001b[0m\u001b[0m\n\u001b[0m",
      "\u001b[0;31mNameError\u001b[0m: name 'interesting_list' is not defined"
     ]
    }
   ],
   "source": [
    "interesting_list['similiar'] = [prototypes.get(x,[]) for x in interesting_list['prototype']]"
   ]
  },
  {
   "cell_type": "markdown",
   "id": "a49e65c0",
   "metadata": {},
   "source": [
    "The following table shows similar compounds to those from our DL predictions. Each example \"similar\" structure is a stable compound in the OQMD"
   ]
  },
  {
   "cell_type": "code",
   "execution_count": 37,
   "id": "977d826d",
   "metadata": {
    "scrolled": true
   },
   "outputs": [
    {
     "ename": "NameError",
     "evalue": "name 'interesting_list' is not defined",
     "output_type": "error",
     "traceback": [
      "\u001b[0;31m---------------------------------------------------------------------------\u001b[0m",
      "\u001b[0;31mNameError\u001b[0m                                 Traceback (most recent call last)",
      "\u001b[0;32m/var/folders/lm/f09y84d57y9bnbzk3j1g4jnr0000gn/T/ipykernel_11226/1371692708.py\u001b[0m in \u001b[0;36m<module>\u001b[0;34m\u001b[0m\n\u001b[0;32m----> 1\u001b[0;31m \u001b[0minteresting_list\u001b[0m\u001b[0;34m\u001b[0m\u001b[0;34m\u001b[0m\u001b[0m\n\u001b[0m",
      "\u001b[0;31mNameError\u001b[0m: name 'interesting_list' is not defined"
     ]
    }
   ],
   "source": [
    "interesting_list"
   ]
  },
  {
   "cell_type": "code",
   "execution_count": null,
   "id": "4530b0d8",
   "metadata": {},
   "outputs": [],
   "source": []
  }
 ],
 "metadata": {
  "kernelspec": {
   "display_name": "Python 3 (ipykernel)",
   "language": "python",
   "name": "python3"
  },
  "language_info": {
   "codemirror_mode": {
    "name": "ipython",
    "version": 3
   },
   "file_extension": ".py",
   "mimetype": "text/x-python",
   "name": "python",
   "nbconvert_exporter": "python",
   "pygments_lexer": "ipython3",
   "version": "3.7.16"
  }
 },
 "nbformat": 4,
 "nbformat_minor": 5
}
