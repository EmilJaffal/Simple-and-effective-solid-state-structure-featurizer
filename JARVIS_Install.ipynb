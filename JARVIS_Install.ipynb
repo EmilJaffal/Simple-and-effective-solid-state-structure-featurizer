{
 "cells": [
  {
   "cell_type": "markdown",
   "id": "48245e84-0210-43b4-8be8-2da6fa4eb278",
   "metadata": {},
   "source": [
    "### Jarvis Installation\n",
    "\n",
    "The JARVIS-Tools is an open-access software package for atomistic data-driven materials design. JARVIS-Tools can be used for a) setting up calculations, b) analysis and informatics, c) plotting, d) database development and e) web-page development.\n",
    "\n",
    "see following installation procedures:\n",
    "    \n",
    "    https://pages.nist.gov/jarvis/#install\n",
    "    (Used pip install)\n",
    "    \n",
    "for in-depth tutorials:\n",
    "    \n",
    "    https://pages.nist.gov/jarvis/tutorials/\n",
    "    \n",
    "general info:\n",
    "\n",
    "    https://jarvis.nist.gov"
   ]
  },
  {
   "cell_type": "markdown",
   "id": "21171a7f-0a67-4e75-a669-1dc1a0e1910f",
   "metadata": {},
   "source": [
    "An atomic structure can consist of atomic element types, corresponding xyz coordinates in space (either in real or reciprocal space) and lattice matrix used in setting periodic boundary conditions.\n",
    "\n",
    "An example of constructing an atomic structure class using jarvis.core.Atoms is given below. After creating the Atoms class, we can simply print it and visualize the POSCAR format file in a software such as VESTA. While the examples below use Silicon elemental crystal creation and analysis, it can be used for multi-component systems as well."
   ]
  },
  {
   "cell_type": "code",
   "execution_count": 2,
   "id": "0851fc7d-c0cf-4854-8289-f1328b3ea655",
   "metadata": {},
   "outputs": [
    {
     "name": "stdout",
     "output_type": "stream",
     "text": [
      "System\n",
      "1.0\n",
      "2.715 2.715 0.0\n",
      "0.0 2.715 2.715\n",
      "2.715 0.0 2.715\n",
      "Si \n",
      "2 \n",
      "direct\n",
      "0.0 0.0 0.0 Si\n",
      "0.25 0.25 0.25 Si\n",
      "\n"
     ]
    }
   ],
   "source": [
    "from jarvis.core.atoms import Atoms\n",
    "box = [[2.715, 2.715, 0], [0, 2.715, 2.715], [2.715, 0, 2.715]]\n",
    "coords = [[0, 0, 0], [0.25, 0.25, 0.25]]\n",
    "elements = [\"Si\", \"Si\"]\n",
    "Si = Atoms(lattice_mat=box, coords=coords, elements=elements, cartesian=False)\n",
    "print (Si) # To visualize \n",
    "Si.write_poscar('POSCAR.vasp')\n",
    "Si.write_cif('POSCAR.vasp')"
   ]
  },
  {
   "cell_type": "markdown",
   "id": "faaed9e0-4cbf-4beb-968b-2ca03735b23b",
   "metadata": {},
   "source": [
    "The Atoms class here is created from the raw data, but it can also be read from different file formats such as: '.cif', 'POSCAR', '.xyz', '.pdb', '.sdf', '.mol2' etc. The Atoms class can also be written to files in formats such as POSCAR/.cif etc.\n",
    "\n",
    "Note that for molecular systems, we use a large vaccum padding (say 50 Angstrom in each direction) and set lattice_mat accordingly, e.g. lattice_mat = [[50,0,0],[0,50,0],[0,0,50]]. Similarly, for free surfaces we set high vaccum in one of the crystallographic directions (say z) by giving a large z-comonent in the lattice matrix while keeping the x, y comonents intact."
   ]
  },
  {
   "cell_type": "markdown",
   "id": "ec90d33f-127d-4327-920c-ba90d5c61390",
   "metadata": {},
   "source": [
    "Once this Atoms class is created, several important information can be obtained such as:"
   ]
  },
  {
   "cell_type": "code",
   "execution_count": 9,
   "id": "5f96a422-d8a5-4548-9b30-5c83b494738d",
   "metadata": {},
   "outputs": [
    {
     "name": "stdout",
     "output_type": "stream",
     "text": [
      "volume 40.02575174999999\n",
      "density in g/cm3 2.3303545408113413\n",
      "composition as dictionary OrderedDict([('Si', 2)])\n",
      "Chemical formula Si\n",
      "Spacegroup info Fd-3m (227)\n",
      "lattice-parameters [3.83959, 3.83959, 3.83959] [60.0, 60.0, 60.0]\n",
      "packing fraction 0.27858\n",
      "number of atoms 2\n",
      "Center of mass [0.67875 0.67875 0.67875]\n",
      "Atomic number list [14, 14]\n"
     ]
    }
   ],
   "source": [
    "print ('volume',Si.volume)\n",
    "print ('density in g/cm3', Si.density)\n",
    "print ('composition as dictionary', Si.composition)\n",
    "print ('Chemical formula', Si.composition.reduced_formula)\n",
    "print ('Spacegroup info', Si.spacegroup())\n",
    "print ('lattice-parameters', Si.lattice.abc, Si.lattice.angles)\n",
    "print ('packing fraction',Si.packing_fraction)\n",
    "print ('number of atoms',Si.num_atoms)\n",
    "print ('Center of mass', Si.get_center_of_mass())\n",
    "print ('Atomic number list', Si.atomic_numbers)"
   ]
  },
  {
   "cell_type": "markdown",
   "id": "c66b8764-1dca-4774-bcf8-bf1c68d0aec2",
   "metadata": {},
   "source": [
    "For creating/accessing dataset(s), we use Atoms.from_dict() and Atoms.to_dict() methods:"
   ]
  },
  {
   "cell_type": "code",
   "execution_count": 10,
   "id": "000795f0-0493-42b6-b11e-9943b4a493c7",
   "metadata": {},
   "outputs": [],
   "source": [
    "d = Si.to_dict()\n",
    "new_atoms = Atoms.from_dict(d)"
   ]
  },
  {
   "cell_type": "markdown",
   "id": "1d513582-cf5c-4e13-a6e8-521d2908b566",
   "metadata": {},
   "source": [
    "## Using with CBFV\n",
    "\n",
    "***Authors: Steven Kauwe, Andrew Falkowski, Anthony Wang***\n",
    "\n",
    "Following tutorial here:\n",
    "    \n",
    "    https://pypi.org/project/CBFV/\n",
    "\n",
    "Repo here:\n",
    "\n",
    "    https://github.com/Kaaiian/CBFV/blob/master/README.md"
   ]
  },
  {
   "cell_type": "code",
   "execution_count": 1,
   "id": "7bd5c0eb-6f18-4bb5-80f4-580f9151728d",
   "metadata": {},
   "outputs": [
    {
     "name": "stdout",
     "output_type": "stream",
     "text": [
      "  formula    target\n",
      "0   Tc1V1  248.5390\n",
      "1  Cu1Dy1   66.8444\n",
      "2   Cd3N2   91.5034\n"
     ]
    }
   ],
   "source": [
    "import pandas as pd\n",
    "\n",
    "data = {\n",
    "    'formula': ['Tc1V1', 'Cu1Dy1', 'Cd3N2'],\n",
    "    'target': [248.539, 66.8444, 91.5034]\n",
    "}\n",
    "\n",
    "df = pd.DataFrame(data)\n",
    "print(df)"
   ]
  },
  {
   "cell_type": "code",
   "execution_count": 2,
   "id": "46bf0cff-4640-49de-8da2-01039256b2d7",
   "metadata": {},
   "outputs": [
    {
     "name": "stderr",
     "output_type": "stream",
     "text": [
      "Processing Input Data: 100%|██████████| 3/3 [00:00<00:00, 1753.47it/s]\n"
     ]
    },
    {
     "name": "stdout",
     "output_type": "stream",
     "text": [
      "\tFeaturizing Compositions...\n"
     ]
    },
    {
     "name": "stderr",
     "output_type": "stream",
     "text": [
      "Assigning Features...: 100%|██████████| 3/3 [00:00<00:00, 1125.69it/s]\n"
     ]
    },
    {
     "name": "stdout",
     "output_type": "stream",
     "text": [
      "\tCreating Pandas Objects...\n"
     ]
    }
   ],
   "source": [
    "from CBFV import composition\n",
    "X, y, formulae, skipped = composition.generate_features(df,\n",
    "                                                        elem_prop='JARVIS',\n",
    "                                                        drop_duplicates=False,\n",
    "                                                        extend_features=True,\n",
    "                                                        sum_feat=True)"
   ]
  },
  {
   "cell_type": "code",
   "execution_count": 3,
   "id": "72afeccb-8a31-422d-96f8-64916ca72af3",
   "metadata": {},
   "outputs": [
    {
     "data": {
      "text/html": [
       "<div>\n",
       "<style scoped>\n",
       "    .dataframe tbody tr th:only-of-type {\n",
       "        vertical-align: middle;\n",
       "    }\n",
       "\n",
       "    .dataframe tbody tr th {\n",
       "        vertical-align: top;\n",
       "    }\n",
       "\n",
       "    .dataframe thead th {\n",
       "        text-align: right;\n",
       "    }\n",
       "</style>\n",
       "<table border=\"1\" class=\"dataframe\">\n",
       "  <thead>\n",
       "    <tr style=\"text-align: right;\">\n",
       "      <th></th>\n",
       "      <th>sum_C-0</th>\n",
       "      <th>sum_C-1</th>\n",
       "      <th>sum_C-10</th>\n",
       "      <th>sum_C-11</th>\n",
       "      <th>sum_C-12</th>\n",
       "      <th>sum_C-13</th>\n",
       "      <th>sum_C-14</th>\n",
       "      <th>sum_C-15</th>\n",
       "      <th>sum_C-16</th>\n",
       "      <th>sum_C-17</th>\n",
       "      <th>...</th>\n",
       "      <th>mode_voro_coord_subs_atom_mass</th>\n",
       "      <th>mode_voro_coord_subs_atom_rad</th>\n",
       "      <th>mode_voro_coord_subs_bp</th>\n",
       "      <th>mode_voro_coord_subs_elec_aff</th>\n",
       "      <th>mode_voro_coord_subs_first_ion_en</th>\n",
       "      <th>mode_voro_coord_subs_hfus</th>\n",
       "      <th>mode_voro_coord_subs_mol_vol</th>\n",
       "      <th>mode_voro_coord_subs_mp</th>\n",
       "      <th>mode_voro_coord_subs_polzbl</th>\n",
       "      <th>mode_voro_coord_subs_therm_cond</th>\n",
       "    </tr>\n",
       "  </thead>\n",
       "  <tbody>\n",
       "    <tr>\n",
       "      <th>0</th>\n",
       "      <td>749.1</td>\n",
       "      <td>361.7</td>\n",
       "      <td>0.0</td>\n",
       "      <td>0.0</td>\n",
       "      <td>333.0</td>\n",
       "      <td>333.0</td>\n",
       "      <td>797.5</td>\n",
       "      <td>0.0</td>\n",
       "      <td>0.0</td>\n",
       "      <td>0.0</td>\n",
       "      <td>...</td>\n",
       "      <td>-86.000</td>\n",
       "      <td>8.65</td>\n",
       "      <td>-4526.0</td>\n",
       "      <td>9.494</td>\n",
       "      <td>3.25381</td>\n",
       "      <td>9.7850</td>\n",
       "      <td>1.68</td>\n",
       "      <td>-2418.00</td>\n",
       "      <td>-2.40</td>\n",
       "      <td>-39.0</td>\n",
       "    </tr>\n",
       "    <tr>\n",
       "      <th>1</th>\n",
       "      <td>175.8</td>\n",
       "      <td>124.2</td>\n",
       "      <td>0.0</td>\n",
       "      <td>0.0</td>\n",
       "      <td>124.2</td>\n",
       "      <td>124.2</td>\n",
       "      <td>175.8</td>\n",
       "      <td>0.0</td>\n",
       "      <td>0.0</td>\n",
       "      <td>0.0</td>\n",
       "      <td>...</td>\n",
       "      <td>-150.500</td>\n",
       "      <td>10.25</td>\n",
       "      <td>-3188.0</td>\n",
       "      <td>10.816</td>\n",
       "      <td>4.27362</td>\n",
       "      <td>11.8640</td>\n",
       "      <td>-7.01</td>\n",
       "      <td>-1668.00</td>\n",
       "      <td>-12.50</td>\n",
       "      <td>-388.0</td>\n",
       "    </tr>\n",
       "    <tr>\n",
       "      <th>2</th>\n",
       "      <td>188.5</td>\n",
       "      <td>176.2</td>\n",
       "      <td>0.0</td>\n",
       "      <td>0.0</td>\n",
       "      <td>106.9</td>\n",
       "      <td>106.9</td>\n",
       "      <td>135.4</td>\n",
       "      <td>0.0</td>\n",
       "      <td>0.0</td>\n",
       "      <td>0.0</td>\n",
       "      <td>...</td>\n",
       "      <td>-102.411</td>\n",
       "      <td>8.45</td>\n",
       "      <td>-1030.0</td>\n",
       "      <td>10.000</td>\n",
       "      <td>1.00618</td>\n",
       "      <td>9.9379</td>\n",
       "      <td>-3.00</td>\n",
       "      <td>-584.22</td>\n",
       "      <td>2.68</td>\n",
       "      <td>-87.0</td>\n",
       "    </tr>\n",
       "  </tbody>\n",
       "</table>\n",
       "<p>3 rows × 3066 columns</p>\n",
       "</div>"
      ],
      "text/plain": [
       "   sum_C-0  sum_C-1  sum_C-10  sum_C-11  sum_C-12  sum_C-13  sum_C-14  \\\n",
       "0    749.1    361.7       0.0       0.0     333.0     333.0     797.5   \n",
       "1    175.8    124.2       0.0       0.0     124.2     124.2     175.8   \n",
       "2    188.5    176.2       0.0       0.0     106.9     106.9     135.4   \n",
       "\n",
       "   sum_C-15  sum_C-16  sum_C-17  ...  mode_voro_coord_subs_atom_mass  \\\n",
       "0       0.0       0.0       0.0  ...                         -86.000   \n",
       "1       0.0       0.0       0.0  ...                        -150.500   \n",
       "2       0.0       0.0       0.0  ...                        -102.411   \n",
       "\n",
       "   mode_voro_coord_subs_atom_rad  mode_voro_coord_subs_bp  \\\n",
       "0                           8.65                  -4526.0   \n",
       "1                          10.25                  -3188.0   \n",
       "2                           8.45                  -1030.0   \n",
       "\n",
       "   mode_voro_coord_subs_elec_aff  mode_voro_coord_subs_first_ion_en  \\\n",
       "0                          9.494                            3.25381   \n",
       "1                         10.816                            4.27362   \n",
       "2                         10.000                            1.00618   \n",
       "\n",
       "   mode_voro_coord_subs_hfus  mode_voro_coord_subs_mol_vol  \\\n",
       "0                     9.7850                          1.68   \n",
       "1                    11.8640                         -7.01   \n",
       "2                     9.9379                         -3.00   \n",
       "\n",
       "   mode_voro_coord_subs_mp  mode_voro_coord_subs_polzbl  \\\n",
       "0                 -2418.00                        -2.40   \n",
       "1                 -1668.00                       -12.50   \n",
       "2                  -584.22                         2.68   \n",
       "\n",
       "   mode_voro_coord_subs_therm_cond  \n",
       "0                            -39.0  \n",
       "1                           -388.0  \n",
       "2                            -87.0  \n",
       "\n",
       "[3 rows x 3066 columns]"
      ]
     },
     "execution_count": 3,
     "metadata": {},
     "output_type": "execute_result"
    }
   ],
   "source": [
    "X #features"
   ]
  },
  {
   "cell_type": "code",
   "execution_count": 4,
   "id": "01fd8d14-3e79-4fab-a119-f9ded214e08d",
   "metadata": {},
   "outputs": [
    {
     "data": {
      "text/plain": [
       "0    248.5390\n",
       "1     66.8444\n",
       "2     91.5034\n",
       "Name: target, dtype: float64"
      ]
     },
     "execution_count": 4,
     "metadata": {},
     "output_type": "execute_result"
    }
   ],
   "source": [
    "y #target"
   ]
  },
  {
   "cell_type": "code",
   "execution_count": 5,
   "id": "a41b0424-0d38-491d-8301-1f7dceff7ac1",
   "metadata": {},
   "outputs": [
    {
     "data": {
      "text/plain": [
       "0     Tc1V1\n",
       "1    Cu1Dy1\n",
       "2     Cd3N2\n",
       "Name: formula, dtype: object"
      ]
     },
     "execution_count": 5,
     "metadata": {},
     "output_type": "execute_result"
    }
   ],
   "source": [
    "formulae #Formulas"
   ]
  }
 ],
 "metadata": {
  "kernelspec": {
   "display_name": "Python 3 (ipykernel)",
   "language": "python",
   "name": "python3"
  },
  "language_info": {
   "codemirror_mode": {
    "name": "ipython",
    "version": 3
   },
   "file_extension": ".py",
   "mimetype": "text/x-python",
   "name": "python",
   "nbconvert_exporter": "python",
   "pygments_lexer": "ipython3",
   "version": "3.8.18"
  }
 },
 "nbformat": 4,
 "nbformat_minor": 5
}
