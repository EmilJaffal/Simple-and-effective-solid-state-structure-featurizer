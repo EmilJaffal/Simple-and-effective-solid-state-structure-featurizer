{
 "cells": [
  {
   "cell_type": "markdown",
   "id": "48245e84-0210-43b4-8be8-2da6fa4eb278",
   "metadata": {},
   "source": [
    "### Jarvis Installation\n",
    "\n",
    "The JARVIS-Tools is an open-access software package for atomistic data-driven materials design. JARVIS-Tools can be used for a) setting up calculations, b) analysis and informatics, c) plotting, d) database development and e) web-page development.\n",
    "\n",
    "see following:\n",
    "    \n",
    "    https://pages.nist.gov/jarvis/#install\n",
    "    \n",
    "for tutorials:\n",
    "    \n",
    "    https://pages.nist.gov/jarvis/tutorials/\n",
    "    \n",
    "all info:\n",
    "\n",
    "    https://jarvis.nist.gov"
   ]
  },
  {
   "cell_type": "code",
   "execution_count": 1,
   "id": "66880899-e12f-45c5-a1c0-2d42a16f5681",
   "metadata": {},
   "outputs": [
    {
     "name": "stdout",
     "output_type": "stream",
     "text": [
      "2.33\n",
      "Obtaining 3D dataset 76k ...\n",
      "Reference:https://www.nature.com/articles/s41524-020-00440-1\n",
      "Other versions:https://doi.org/10.6084/m9.figshare.6815699\n"
     ]
    },
    {
     "name": "stderr",
     "output_type": "stream",
     "text": [
      "100%|█████████████████████████████████████| 40.8M/40.8M [00:21<00:00, 1.89MiB/s]\n"
     ]
    },
    {
     "name": "stdout",
     "output_type": "stream",
     "text": [
      "Loading the zipfile...\n",
      "Loading completed.\n",
      "75993\n",
      "Obtaining 2D dataset 1.1k ...\n",
      "Reference:https://www.nature.com/articles/s41524-020-00440-1\n",
      "Other versions:https://doi.org/10.6084/m9.figshare.6815705\n"
     ]
    },
    {
     "name": "stderr",
     "output_type": "stream",
     "text": [
      "100%|█████████████████████████████████████| 8.39M/8.39M [00:03<00:00, 2.54MiB/s]\n"
     ]
    },
    {
     "name": "stdout",
     "output_type": "stream",
     "text": [
      "Loading the zipfile...\n",
      "Loading completed.\n",
      "1103\n",
      "Requires ASE for this functionality.\n"
     ]
    }
   ],
   "source": [
    "import jarvis\n",
    "from jarvis.core.atoms import Atoms\n",
    "box = [[2.715, 2.715, 0], [0, 2.715, 2.715], [2.715, 0, 2.715]]\n",
    "coords = [[0, 0, 0], [0.25, 0.25, 0.25]]\n",
    "elements = [\"Si\", \"Si\"]\n",
    "Si = Atoms(lattice_mat=box, coords=coords, elements=elements)\n",
    "density = round(Si.density,2)\n",
    "print (density)\n",
    "2.33\n",
    "\n",
    "from jarvis.db.figshare import data\n",
    "dft_3d = data(dataset='dft_3d')\n",
    "print (len(dft_3d))\n",
    "75993\n",
    "\n",
    "\n",
    "from jarvis.io.vasp.inputs import Poscar\n",
    "for i in dft_3d:\n",
    "    atoms = Atoms.from_dict(i['atoms'])\n",
    "    poscar = Poscar(atoms)\n",
    "    jid = i['jid']\n",
    "    filename = 'POSCAR-'+jid+'.vasp'\n",
    "    poscar.write_file(filename)\n",
    "dft_2d = data(dataset='dft_2d')\n",
    "print (len(dft_2d))\n",
    "1109\n",
    "\n",
    "for i in dft_2d:\n",
    "    atoms = Atoms.from_dict(i['atoms'])\n",
    "    poscar = Poscar(atoms)\n",
    "    jid = i['jid']\n",
    "    filename = 'POSCAR-'+jid+'.vasp'\n",
    "    poscar.write_file(filename)\n",
    "# Example to parse DOS data from JARVIS-DFT webpages\n",
    "from jarvis.db.webpages import Webpage\n",
    "from jarvis.core.spectrum import Spectrum\n",
    "import numpy as np\n",
    "new_dist=np.arange(-5, 10, 0.05)\n",
    "all_atoms = []\n",
    "all_dos_up = []\n",
    "all_jids = []\n",
    "for ii,i in enumerate(dft_3d):\n",
    "  all_jids.append(i['jid'])\n",
    "  try:\n",
    "    w = Webpage(jid=i['jid'])\n",
    "    edos_data = w.get_dft_electron_dos()\n",
    "    ens = np.array(edos_data['edos_energies'].strip(\"'\").split(','),dtype='float')\n",
    "    tot_dos_up = np.array(edos_data['total_edos_up'].strip(\"'\").split(','),dtype='float')\n",
    "    s = Spectrum(x=ens,y=tot_dos_up)\n",
    "    interp = s.get_interpolated_values(new_dist=new_dist)\n",
    "    atoms=Atoms.from_dict(i['atoms'])\n",
    "    ase_atoms=atoms.ase_converter()\n",
    "    all_dos_up.append(interp)\n",
    "    all_atoms.append(atoms)\n",
    "    all_jids.append(i['jid'])\n",
    "    filename=i['jid']+'.cif'\n",
    "    atoms.write_cif(filename)\n",
    "    break\n",
    "  except Exception as exp :\n",
    "    print (exp,i['jid'])\n",
    "    pass"
   ]
  },
  {
   "cell_type": "markdown",
   "id": "21171a7f-0a67-4e75-a669-1dc1a0e1910f",
   "metadata": {},
   "source": [
    "An atomic structure can consist of atomic element types, corresponding xyz coordinates in space (either in real or reciprocal space) and lattice matrix used in setting periodic boundary conditions.\n",
    "\n",
    "An example of constructing an atomic structure class using jarvis.core.Atoms is given below. After creating the Atoms class, we can simply print it and visualize the POSCAR format file in a software such as VESTA. While the examples below use Silicon elemental crystal creation and analysis, it can be used for multi-component systems as well."
   ]
  },
  {
   "cell_type": "code",
   "execution_count": 14,
   "id": "0851fc7d-c0cf-4854-8289-f1328b3ea655",
   "metadata": {},
   "outputs": [
    {
     "name": "stdout",
     "output_type": "stream",
     "text": [
      "System\n",
      "1.0\n",
      "2.715 2.715 0.0\n",
      "0.0 2.715 2.715\n",
      "2.715 0.0 2.715\n",
      "Si \n",
      "2 \n",
      "direct\n",
      "0.0 0.0 0.0 Si\n",
      "0.25 0.25 0.25 Si\n",
      "\n"
     ]
    }
   ],
   "source": [
    "from jarvis.core.atoms import Atoms\n",
    "box = [[2.715, 2.715, 0], [0, 2.715, 2.715], [2.715, 0, 2.715]]\n",
    "coords = [[0, 0, 0], [0.25, 0.25, 0.25]]\n",
    "elements = [\"Si\", \"Si\"]\n",
    "Si = Atoms(lattice_mat=box, coords=coords, elements=elements, cartesian=False)\n",
    "print (Si) # To visualize \n",
    "Si.write_poscar('POSCAR.vasp')\n",
    "Si.write_cif('POSCAR.vasp')"
   ]
  },
  {
   "cell_type": "markdown",
   "id": "faaed9e0-4cbf-4beb-968b-2ca03735b23b",
   "metadata": {},
   "source": [
    "The Atoms class here is created from the raw data, but it can also be read from different file formats such as: '.cif', 'POSCAR', '.xyz', '.pdb', '.sdf', '.mol2' etc. The Atoms class can also be written to files in formats such as POSCAR/.cif etc.\n",
    "\n",
    "Note that for molecular systems, we use a large vaccum padding (say 50 Angstrom in each direction) and set lattice_mat accordingly, e.g. lattice_mat = [[50,0,0],[0,50,0],[0,0,50]]. Similarly, for free surfaces we set high vaccum in one of the crystallographic directions (say z) by giving a large z-comonent in the lattice matrix while keeping the x, y comonents intact."
   ]
  },
  {
   "cell_type": "code",
   "execution_count": 15,
   "id": "7316f49a-a480-4097-a41a-21c1e74e4ac8",
   "metadata": {},
   "outputs": [
    {
     "ename": "FileNotFoundError",
     "evalue": "[Errno 2] No such file or directory: 'POSCAR'",
     "output_type": "error",
     "traceback": [
      "\u001b[0;31m---------------------------------------------------------------------------\u001b[0m",
      "\u001b[0;31mFileNotFoundError\u001b[0m                         Traceback (most recent call last)",
      "Cell \u001b[0;32mIn[15], line 1\u001b[0m\n\u001b[0;32m----> 1\u001b[0m my_atoms \u001b[38;5;241m=\u001b[39m \u001b[43mAtoms\u001b[49m\u001b[38;5;241;43m.\u001b[39;49m\u001b[43mfrom_poscar\u001b[49m\u001b[43m(\u001b[49m\u001b[38;5;124;43m'\u001b[39;49m\u001b[38;5;124;43mPOSCAR\u001b[39;49m\u001b[38;5;124;43m'\u001b[39;49m\u001b[43m)\u001b[49m\n\u001b[1;32m      2\u001b[0m my_atoms\u001b[38;5;241m.\u001b[39mwrite_poscar(\u001b[38;5;124m'\u001b[39m\u001b[38;5;124mMyPOSCAR\u001b[39m\u001b[38;5;124m'\u001b[39m)\n",
      "File \u001b[0;32m~/anaconda3/envs/MLProj/lib/python3.8/site-packages/jarvis_tools-2023.12.12-py3.8.egg/jarvis/core/atoms.py:618\u001b[0m, in \u001b[0;36mAtoms.from_poscar\u001b[0;34m(self, filename)\u001b[0m\n\u001b[1;32m    615\u001b[0m \u001b[38;5;250m\u001b[39m\u001b[38;5;124;03m\"\"\"Read POSCAR/CONTCAR file from to make Atoms object.\"\"\"\u001b[39;00m\n\u001b[1;32m    616\u001b[0m \u001b[38;5;28;01mfrom\u001b[39;00m \u001b[38;5;21;01mjarvis\u001b[39;00m\u001b[38;5;21;01m.\u001b[39;00m\u001b[38;5;21;01mio\u001b[39;00m\u001b[38;5;21;01m.\u001b[39;00m\u001b[38;5;21;01mvasp\u001b[39;00m\u001b[38;5;21;01m.\u001b[39;00m\u001b[38;5;21;01minputs\u001b[39;00m \u001b[38;5;28;01mimport\u001b[39;00m Poscar\n\u001b[0;32m--> 618\u001b[0m \u001b[38;5;28;01mreturn\u001b[39;00m \u001b[43mPoscar\u001b[49m\u001b[38;5;241;43m.\u001b[39;49m\u001b[43mfrom_file\u001b[49m\u001b[43m(\u001b[49m\u001b[43mfilename\u001b[49m\u001b[43m)\u001b[49m\u001b[38;5;241m.\u001b[39matoms\n",
      "File \u001b[0;32m~/anaconda3/envs/MLProj/lib/python3.8/site-packages/jarvis_tools-2023.12.12-py3.8.egg/jarvis/io/vasp/inputs.py:36\u001b[0m, in \u001b[0;36mPoscar.from_file\u001b[0;34m(filename)\u001b[0m\n\u001b[1;32m     33\u001b[0m \u001b[38;5;129m@staticmethod\u001b[39m\n\u001b[1;32m     34\u001b[0m \u001b[38;5;28;01mdef\u001b[39;00m \u001b[38;5;21mfrom_file\u001b[39m(filename\u001b[38;5;241m=\u001b[39m\u001b[38;5;124m\"\u001b[39m\u001b[38;5;124mPOSCAR\u001b[39m\u001b[38;5;124m\"\u001b[39m):\n\u001b[1;32m     35\u001b[0m \u001b[38;5;250m    \u001b[39m\u001b[38;5;124;03m\"\"\"Read simple POSCAR file from the path.\"\"\"\u001b[39;00m\n\u001b[0;32m---> 36\u001b[0m     \u001b[38;5;28;01mwith\u001b[39;00m \u001b[38;5;28;43mopen\u001b[39;49m\u001b[43m(\u001b[49m\u001b[43mfilename\u001b[49m\u001b[43m,\u001b[49m\u001b[43m \u001b[49m\u001b[38;5;124;43m\"\u001b[39;49m\u001b[38;5;124;43mr\u001b[39;49m\u001b[38;5;124;43m\"\u001b[39;49m\u001b[43m)\u001b[49m \u001b[38;5;28;01mas\u001b[39;00m f:\n\u001b[1;32m     37\u001b[0m         \u001b[38;5;28;01mreturn\u001b[39;00m Poscar\u001b[38;5;241m.\u001b[39mfrom_string(f\u001b[38;5;241m.\u001b[39mread())\n",
      "\u001b[0;31mFileNotFoundError\u001b[0m: [Errno 2] No such file or directory: 'POSCAR'"
     ]
    }
   ],
   "source": [
    "my_atoms = Atoms.from_poscar('POSCAR')\n",
    "my_atoms.write_poscar('MyPOSCAR')"
   ]
  },
  {
   "cell_type": "markdown",
   "id": "ec90d33f-127d-4327-920c-ba90d5c61390",
   "metadata": {},
   "source": [
    "Once this Atoms class is created, several important information can be obtained such as:"
   ]
  },
  {
   "cell_type": "code",
   "execution_count": 16,
   "id": "5f96a422-d8a5-4548-9b30-5c83b494738d",
   "metadata": {},
   "outputs": [
    {
     "name": "stdout",
     "output_type": "stream",
     "text": [
      "volume 40.02575174999999\n",
      "density in g/cm3 2.3303545408113413\n",
      "composition as dictionary OrderedDict([('Si', 2)])\n",
      "Chemical formula Si\n",
      "Spacegroup info Fd-3m (227)\n",
      "lattice-parameters [3.83959, 3.83959, 3.83959] [60.0, 60.0, 60.0]\n",
      "packing fraction 0.27858\n",
      "number of atoms 2\n",
      "Center of mass [0.67875 0.67875 0.67875]\n",
      "Atomic number list [14, 14]\n"
     ]
    }
   ],
   "source": [
    "print ('volume',Si.volume)\n",
    "print ('density in g/cm3', Si.density)\n",
    "print ('composition as dictionary', Si.composition)\n",
    "print ('Chemical formula', Si.composition.reduced_formula)\n",
    "print ('Spacegroup info', Si.spacegroup())\n",
    "print ('lattice-parameters', Si.lattice.abc, Si.lattice.angles)\n",
    "print ('packing fraction',Si.packing_fraction)\n",
    "print ('number of atoms',Si.num_atoms)\n",
    "print ('Center of mass', Si.get_center_of_mass())\n",
    "print ('Atomic number list', Si.atomic_numbers)"
   ]
  },
  {
   "cell_type": "markdown",
   "id": "c66b8764-1dca-4774-bcf8-bf1c68d0aec2",
   "metadata": {},
   "source": [
    "For creating/accessing dataset(s), we use Atoms.from_dict() and Atoms.to_dict() methods:"
   ]
  },
  {
   "cell_type": "code",
   "execution_count": 17,
   "id": "000795f0-0493-42b6-b11e-9943b4a493c7",
   "metadata": {},
   "outputs": [],
   "source": [
    "d = Si.to_dict()\n",
    "new_atoms = Atoms.from_dict(d)"
   ]
  },
  {
   "cell_type": "markdown",
   "id": "3c102fd6-9e98-4d07-8ca9-584e2e5af010",
   "metadata": {},
   "source": [
    "The jarvis.core.Atoms object can be converted back and forth to other simulation toolsets such as Pymatgen and ASE if insyalled, as follows"
   ]
  },
  {
   "cell_type": "code",
   "execution_count": 18,
   "id": "5e4f9dfd-48ca-4cd4-bde5-928a6bba6457",
   "metadata": {},
   "outputs": [
    {
     "name": "stdout",
     "output_type": "stream",
     "text": [
      "Requires ASE for this functionality.\n"
     ]
    }
   ],
   "source": [
    "pmg_struct = Si.pymatgen_converter()\n",
    "ase_atoms = Si.ase_converter()"
   ]
  },
  {
   "cell_type": "markdown",
   "id": "ebfab1a9-703b-4ce9-a7c1-448f9d9e211d",
   "metadata": {},
   "source": [
    "In order to make supercell, the following example can be used:"
   ]
  },
  {
   "cell_type": "code",
   "execution_count": 19,
   "id": "c66403ed-1995-4141-a4c8-bef76009a86b",
   "metadata": {},
   "outputs": [
    {
     "data": {
      "text/plain": [
       "True"
      ]
     },
     "execution_count": 19,
     "metadata": {},
     "output_type": "execute_result"
    }
   ],
   "source": [
    "supercell_1 = Si.make_supercell([2,2,2])\n",
    "supercell_2 = Si.make_supercell_matrix([[2,0,0],[0,2,0],[0,0,2]])\n",
    "supercell_1.density == supercell_2.density"
   ]
  }
 ],
 "metadata": {
  "kernelspec": {
   "display_name": "Python 3 (ipykernel)",
   "language": "python",
   "name": "python3"
  },
  "language_info": {
   "codemirror_mode": {
    "name": "ipython",
    "version": 3
   },
   "file_extension": ".py",
   "mimetype": "text/x-python",
   "name": "python",
   "nbconvert_exporter": "python",
   "pygments_lexer": "ipython3",
   "version": "3.12.1"
  }
 },
 "nbformat": 4,
 "nbformat_minor": 5
}
