{
 "cells": [
  {
   "cell_type": "code",
   "execution_count": 9,
   "id": "d467944a-c742-42e7-bc1f-81d9427f6d1f",
   "metadata": {},
   "outputs": [
    {
     "name": "stdout",
     "output_type": "stream",
     "text": [
      "/Users/emiljaffal\n"
     ]
    }
   ],
   "source": [
    "cd"
   ]
  },
  {
   "cell_type": "code",
   "execution_count": 13,
   "id": "39b97e58-536b-41b3-b965-f1264c89b146",
   "metadata": {},
   "outputs": [
    {
     "data": {
      "text/html": [
       "<div>\n",
       "<style scoped>\n",
       "    .dataframe tbody tr th:only-of-type {\n",
       "        vertical-align: middle;\n",
       "    }\n",
       "\n",
       "    .dataframe tbody tr th {\n",
       "        vertical-align: top;\n",
       "    }\n",
       "\n",
       "    .dataframe thead th {\n",
       "        text-align: right;\n",
       "    }\n",
       "</style>\n",
       "<table border=\"1\" class=\"dataframe\">\n",
       "  <thead>\n",
       "    <tr style=\"text-align: right;\">\n",
       "      <th></th>\n",
       "      <th>Formula</th>\n",
       "      <th>Entry</th>\n",
       "      <th>Entry prototype</th>\n",
       "      <th>Structure class</th>\n",
       "      <th>Inv. center</th>\n",
       "      <th>Unit cell volume, A^3</th>\n",
       "      <th>Density (calc.) [Mg m‰…]</th>\n",
       "    </tr>\n",
       "  </thead>\n",
       "  <tbody>\n",
       "    <tr>\n",
       "      <th>0</th>\n",
       "      <td>CeGa</td>\n",
       "      <td>261037</td>\n",
       "      <td>1</td>\n",
       "      <td>1</td>\n",
       "      <td>1</td>\n",
       "      <td>210.590</td>\n",
       "      <td>6.62</td>\n",
       "    </tr>\n",
       "    <tr>\n",
       "      <th>1</th>\n",
       "      <td>CeGa</td>\n",
       "      <td>526690</td>\n",
       "      <td>1</td>\n",
       "      <td>1</td>\n",
       "      <td>1</td>\n",
       "      <td>212.790</td>\n",
       "      <td>6.55</td>\n",
       "    </tr>\n",
       "    <tr>\n",
       "      <th>2</th>\n",
       "      <td>CeGa</td>\n",
       "      <td>450659</td>\n",
       "      <td>1</td>\n",
       "      <td>1</td>\n",
       "      <td>1</td>\n",
       "      <td>212.790</td>\n",
       "      <td>6.55</td>\n",
       "    </tr>\n",
       "    <tr>\n",
       "      <th>3</th>\n",
       "      <td>CeGa</td>\n",
       "      <td>450525</td>\n",
       "      <td>1</td>\n",
       "      <td>1</td>\n",
       "      <td>1</td>\n",
       "      <td>215.020</td>\n",
       "      <td>6.48</td>\n",
       "    </tr>\n",
       "    <tr>\n",
       "      <th>4</th>\n",
       "      <td>CeGa</td>\n",
       "      <td>528215</td>\n",
       "      <td>1</td>\n",
       "      <td>1</td>\n",
       "      <td>1</td>\n",
       "      <td>215.030</td>\n",
       "      <td>6.48</td>\n",
       "    </tr>\n",
       "    <tr>\n",
       "      <th>...</th>\n",
       "      <td>...</td>\n",
       "      <td>...</td>\n",
       "      <td>...</td>\n",
       "      <td>...</td>\n",
       "      <td>...</td>\n",
       "      <td>...</td>\n",
       "      <td>...</td>\n",
       "    </tr>\n",
       "    <tr>\n",
       "      <th>1447</th>\n",
       "      <td>NiPt</td>\n",
       "      <td>1627941</td>\n",
       "      <td>10</td>\n",
       "      <td>4</td>\n",
       "      <td>1</td>\n",
       "      <td>26.500</td>\n",
       "      <td>15.91</td>\n",
       "    </tr>\n",
       "    <tr>\n",
       "      <th>1448</th>\n",
       "      <td>NiPt</td>\n",
       "      <td>455847</td>\n",
       "      <td>10</td>\n",
       "      <td>4</td>\n",
       "      <td>1</td>\n",
       "      <td>26.473</td>\n",
       "      <td>15.92</td>\n",
       "    </tr>\n",
       "    <tr>\n",
       "      <th>1449</th>\n",
       "      <td>SnYb</td>\n",
       "      <td>450594</td>\n",
       "      <td>10</td>\n",
       "      <td>4</td>\n",
       "      <td>1</td>\n",
       "      <td>54.147</td>\n",
       "      <td>8.95</td>\n",
       "    </tr>\n",
       "    <tr>\n",
       "      <th>1450</th>\n",
       "      <td>SnYb</td>\n",
       "      <td>1823352</td>\n",
       "      <td>10</td>\n",
       "      <td>4</td>\n",
       "      <td>1</td>\n",
       "      <td>54.800</td>\n",
       "      <td>8.84</td>\n",
       "    </tr>\n",
       "    <tr>\n",
       "      <th>1451</th>\n",
       "      <td>SnYb</td>\n",
       "      <td>1907574</td>\n",
       "      <td>10</td>\n",
       "      <td>4</td>\n",
       "      <td>1</td>\n",
       "      <td>54.000</td>\n",
       "      <td>8.96</td>\n",
       "    </tr>\n",
       "  </tbody>\n",
       "</table>\n",
       "<p>1452 rows × 7 columns</p>\n",
       "</div>"
      ],
      "text/plain": [
       "     Formula    Entry  Entry prototype  Structure class  Inv. center  \\\n",
       "0       CeGa   261037                1                1            1   \n",
       "1       CeGa   526690                1                1            1   \n",
       "2       CeGa   450659                1                1            1   \n",
       "3       CeGa   450525                1                1            1   \n",
       "4       CeGa   528215                1                1            1   \n",
       "...      ...      ...              ...              ...          ...   \n",
       "1447    NiPt  1627941               10                4            1   \n",
       "1448    NiPt   455847               10                4            1   \n",
       "1449    SnYb   450594               10                4            1   \n",
       "1450    SnYb  1823352               10                4            1   \n",
       "1451    SnYb  1907574               10                4            1   \n",
       "\n",
       "      Unit cell volume, A^3  Density (calc.) [Mg m‰…]  \n",
       "0                   210.590                      6.62  \n",
       "1                   212.790                      6.55  \n",
       "2                   212.790                      6.55  \n",
       "3                   215.020                      6.48  \n",
       "4                   215.030                      6.48  \n",
       "...                     ...                       ...  \n",
       "1447                 26.500                     15.91  \n",
       "1448                 26.473                     15.92  \n",
       "1449                 54.147                      8.95  \n",
       "1450                 54.800                      8.84  \n",
       "1451                 54.000                      8.96  \n",
       "\n",
       "[1452 rows x 7 columns]"
      ]
     },
     "execution_count": 13,
     "metadata": {},
     "output_type": "execute_result"
    }
   ],
   "source": [
    "import pandas as pd\n",
    "\n",
    "file_path = \"desktop/data.xlsx\"\n",
    "data = pd.read_excel(file_path)\n",
    "data"
   ]
  },
  {
   "cell_type": "markdown",
   "id": "bc239c40-e800-4edd-8726-efa288f3cac8",
   "metadata": {},
   "source": [
    "## Using with CBFV\n",
    "\n",
    "As per the following:\n",
    "    \n",
    "    https://pypi.org/project/CBFV/"
   ]
  },
  {
   "cell_type": "code",
   "execution_count": 2,
   "id": "5cd4c867-f979-4ee1-b33d-586ce7a5bdb3",
   "metadata": {},
   "outputs": [
    {
     "name": "stdout",
     "output_type": "stream",
     "text": [
      "  formula    target\n",
      "0   Tc1V1  248.5390\n",
      "1  Cu1Dy1   66.8444\n",
      "2   Cd3N2   91.5034\n"
     ]
    }
   ],
   "source": [
    "import pandas as pd\n",
    "\n",
    "data = {\n",
    "    'formula': ['Tc1V1', 'Cu1Dy1', 'Cd3N2'],\n",
    "    'target': [248.539, 66.8444, 91.5034]\n",
    "}\n",
    "\n",
    "df = pd.DataFrame(data)\n",
    "print(df)"
   ]
  },
  {
   "cell_type": "code",
   "execution_count": 3,
   "id": "8efea76a-0d26-4077-af23-f57b1240f9be",
   "metadata": {},
   "outputs": [
    {
     "name": "stderr",
     "output_type": "stream",
     "text": [
      "Processing Input Data: 100%|██████████| 3/3 [00:00<00:00, 1534.31it/s]\n"
     ]
    },
    {
     "name": "stdout",
     "output_type": "stream",
     "text": [
      "\tFeaturizing Compositions...\n"
     ]
    },
    {
     "name": "stderr",
     "output_type": "stream",
     "text": [
      "Assigning Features...: 100%|██████████| 3/3 [00:00<00:00, 1381.83it/s]"
     ]
    },
    {
     "name": "stdout",
     "output_type": "stream",
     "text": [
      "\tCreating Pandas Objects...\n"
     ]
    },
    {
     "name": "stderr",
     "output_type": "stream",
     "text": [
      "\n"
     ]
    }
   ],
   "source": [
    "from CBFV import composition\n",
    "X, y, formulae, skipped = composition.generate_features(df,\n",
    "                                                        elem_prop='magpie',\n",
    "                                                        drop_duplicates=False,\n",
    "                                                        extend_features=True,\n",
    "                                                        sum_feat=True)"
   ]
  },
  {
   "cell_type": "code",
   "execution_count": 7,
   "id": "608de1c1-ca0e-4643-bc94-1b4ece1d2d8c",
   "metadata": {},
   "outputs": [
    {
     "data": {
      "text/html": [
       "<div>\n",
       "<style scoped>\n",
       "    .dataframe tbody tr th:only-of-type {\n",
       "        vertical-align: middle;\n",
       "    }\n",
       "\n",
       "    .dataframe tbody tr th {\n",
       "        vertical-align: top;\n",
       "    }\n",
       "\n",
       "    .dataframe thead th {\n",
       "        text-align: right;\n",
       "    }\n",
       "</style>\n",
       "<table border=\"1\" class=\"dataframe\">\n",
       "  <thead>\n",
       "    <tr style=\"text-align: right;\">\n",
       "      <th></th>\n",
       "      <th>avg_Atomic_Number</th>\n",
       "      <th>avg_Atomic_Weight</th>\n",
       "      <th>avg_Period</th>\n",
       "      <th>avg_group</th>\n",
       "      <th>avg_families</th>\n",
       "      <th>avg_Metal</th>\n",
       "      <th>avg_Nonmetal</th>\n",
       "      <th>avg_Metalliod</th>\n",
       "      <th>avg_Mendeleev_Number</th>\n",
       "      <th>avg_l_quantum_number</th>\n",
       "      <th>...</th>\n",
       "      <th>mode_polarizability(A^3)</th>\n",
       "      <th>mode_Melting_point_(K)</th>\n",
       "      <th>mode_Boiling_Point_(K)</th>\n",
       "      <th>mode_Density_(g/mL)</th>\n",
       "      <th>mode_specific_heat_(J/g_K)_</th>\n",
       "      <th>mode_heat_of_fusion_(kJ/mol)_</th>\n",
       "      <th>mode_heat_of_vaporization_(kJ/mol)_</th>\n",
       "      <th>mode_thermal_conductivity_(W/(m_K))_</th>\n",
       "      <th>mode_heat_atomization(kJ/mol)</th>\n",
       "      <th>mode_Cohesive_energy</th>\n",
       "    </tr>\n",
       "  </thead>\n",
       "  <tbody>\n",
       "    <tr>\n",
       "      <th>0</th>\n",
       "      <td>33.0</td>\n",
       "      <td>74.424350</td>\n",
       "      <td>4.5</td>\n",
       "      <td>6.0</td>\n",
       "      <td>4.0</td>\n",
       "      <td>1.0</td>\n",
       "      <td>0.0</td>\n",
       "      <td>0.0</td>\n",
       "      <td>49.5</td>\n",
       "      <td>2.0</td>\n",
       "      <td>...</td>\n",
       "      <td>11.4</td>\n",
       "      <td>2163.15</td>\n",
       "      <td>3653.15</td>\n",
       "      <td>6.11</td>\n",
       "      <td>0.21</td>\n",
       "      <td>20.900</td>\n",
       "      <td>453.00</td>\n",
       "      <td>30.7</td>\n",
       "      <td>514.0</td>\n",
       "      <td>5.31</td>\n",
       "    </tr>\n",
       "    <tr>\n",
       "      <th>1</th>\n",
       "      <td>47.5</td>\n",
       "      <td>113.023000</td>\n",
       "      <td>5.0</td>\n",
       "      <td>7.0</td>\n",
       "      <td>3.5</td>\n",
       "      <td>1.0</td>\n",
       "      <td>0.0</td>\n",
       "      <td>0.0</td>\n",
       "      <td>47.5</td>\n",
       "      <td>2.5</td>\n",
       "      <td>...</td>\n",
       "      <td>6.7</td>\n",
       "      <td>1356.15</td>\n",
       "      <td>2840.15</td>\n",
       "      <td>8.55</td>\n",
       "      <td>0.17</td>\n",
       "      <td>11.060</td>\n",
       "      <td>230.10</td>\n",
       "      <td>10.7</td>\n",
       "      <td>291.0</td>\n",
       "      <td>3.04</td>\n",
       "    </tr>\n",
       "    <tr>\n",
       "      <th>2</th>\n",
       "      <td>31.6</td>\n",
       "      <td>73.049296</td>\n",
       "      <td>3.8</td>\n",
       "      <td>13.2</td>\n",
       "      <td>5.2</td>\n",
       "      <td>0.6</td>\n",
       "      <td>0.4</td>\n",
       "      <td>0.0</td>\n",
       "      <td>74.8</td>\n",
       "      <td>0.4</td>\n",
       "      <td>...</td>\n",
       "      <td>7.2</td>\n",
       "      <td>594.05</td>\n",
       "      <td>1038.15</td>\n",
       "      <td>8.65</td>\n",
       "      <td>0.23</td>\n",
       "      <td>6.192</td>\n",
       "      <td>99.57</td>\n",
       "      <td>96.8</td>\n",
       "      <td>112.0</td>\n",
       "      <td>1.16</td>\n",
       "    </tr>\n",
       "  </tbody>\n",
       "</table>\n",
       "<p>3 rows × 264 columns</p>\n",
       "</div>"
      ],
      "text/plain": [
       "   avg_Atomic_Number  avg_Atomic_Weight  avg_Period  avg_group  avg_families  \\\n",
       "0               33.0          74.424350         4.5        6.0           4.0   \n",
       "1               47.5         113.023000         5.0        7.0           3.5   \n",
       "2               31.6          73.049296         3.8       13.2           5.2   \n",
       "\n",
       "   avg_Metal  avg_Nonmetal  avg_Metalliod  avg_Mendeleev_Number  \\\n",
       "0        1.0           0.0            0.0                  49.5   \n",
       "1        1.0           0.0            0.0                  47.5   \n",
       "2        0.6           0.4            0.0                  74.8   \n",
       "\n",
       "   avg_l_quantum_number  ...  mode_polarizability(A^3)  \\\n",
       "0                   2.0  ...                      11.4   \n",
       "1                   2.5  ...                       6.7   \n",
       "2                   0.4  ...                       7.2   \n",
       "\n",
       "   mode_Melting_point_(K)  mode_Boiling_Point_(K)  mode_Density_(g/mL)  \\\n",
       "0                 2163.15                 3653.15                 6.11   \n",
       "1                 1356.15                 2840.15                 8.55   \n",
       "2                  594.05                 1038.15                 8.65   \n",
       "\n",
       "   mode_specific_heat_(J/g_K)_  mode_heat_of_fusion_(kJ/mol)_  \\\n",
       "0                         0.21                         20.900   \n",
       "1                         0.17                         11.060   \n",
       "2                         0.23                          6.192   \n",
       "\n",
       "   mode_heat_of_vaporization_(kJ/mol)_  mode_thermal_conductivity_(W/(m_K))_  \\\n",
       "0                               453.00                                  30.7   \n",
       "1                               230.10                                  10.7   \n",
       "2                                99.57                                  96.8   \n",
       "\n",
       "   mode_heat_atomization(kJ/mol)  mode_Cohesive_energy  \n",
       "0                          514.0                  5.31  \n",
       "1                          291.0                  3.04  \n",
       "2                          112.0                  1.16  \n",
       "\n",
       "[3 rows x 264 columns]"
      ]
     },
     "execution_count": 7,
     "metadata": {},
     "output_type": "execute_result"
    }
   ],
   "source": [
    "X"
   ]
  },
  {
   "cell_type": "code",
   "execution_count": 8,
   "id": "918da14d-48b2-4c04-99db-d02415969cbf",
   "metadata": {},
   "outputs": [
    {
     "data": {
      "text/plain": [
       "0    248.5390\n",
       "1     66.8444\n",
       "2     91.5034\n",
       "Name: target, dtype: float64"
      ]
     },
     "execution_count": 8,
     "metadata": {},
     "output_type": "execute_result"
    }
   ],
   "source": [
    "y"
   ]
  },
  {
   "cell_type": "code",
   "execution_count": 9,
   "id": "ae1b21dc-be7f-47a0-ba79-04aceefb5b85",
   "metadata": {
    "collapsed": true,
    "jupyter": {
     "outputs_hidden": true
    }
   },
   "outputs": [
    {
     "data": {
      "text/plain": [
       "0     Tc1V1\n",
       "1    Cu1Dy1\n",
       "2     Cd3N2\n",
       "Name: formula, dtype: object"
      ]
     },
     "execution_count": 9,
     "metadata": {},
     "output_type": "execute_result"
    }
   ],
   "source": [
    "formulae"
   ]
  }
 ],
 "metadata": {
  "kernelspec": {
   "display_name": "Python 3 (ipykernel)",
   "language": "python",
   "name": "python3"
  },
  "language_info": {
   "codemirror_mode": {
    "name": "ipython",
    "version": 3
   },
   "file_extension": ".py",
   "mimetype": "text/x-python",
   "name": "python",
   "nbconvert_exporter": "python",
   "pygments_lexer": "ipython3",
   "version": "3.12.1"
  }
 },
 "nbformat": 4,
 "nbformat_minor": 5
}
