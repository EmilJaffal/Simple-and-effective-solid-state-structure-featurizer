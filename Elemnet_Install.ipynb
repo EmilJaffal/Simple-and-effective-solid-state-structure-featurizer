{
 "cells": [
  {
   "cell_type": "markdown",
   "id": "daa8cef3-4be8-4f04-b85b-c35cdcdfef25",
   "metadata": {},
   "source": [
    "### ElemNet Installation\n",
    "\n",
    "ElemNet is a deep neural network model that takes only the elemental compositions as inputs and leverages artificial intelligence to automatically capture the essential chemistry to predict materials properties. ElemNet can automatically learn the chemical interactions and similarities between different elements which allows it to even predict the phase diagrams of chemical systems absent from the training dataset more accurately than the conventional machine learning models based on physical attributes levaraging domain knowledge.\n",
    "\n",
    "    https://github.com/NU-CUCIS/ElemNet/blob/master/README.md\n",
    "    \n",
    "#### Installation requirements\n",
    "The basic requirement for re-using these environments are a Python 3.6.3 Jupyter environment with the packages listed in requirements.txt.\n",
    "\n",
    "Some analyses required the use of Magpie, which requires Java JDK 1.7 or greater. See [the Magpie documentation for details].\n",
    "\n"
   ]
  },
  {
   "cell_type": "code",
   "execution_count": 1,
   "id": "262c5f80-e137-4a6f-9840-4137762afb9e",
   "metadata": {},
   "outputs": [],
   "source": [
    "# Requirements:\n",
    "import pandas as pd, warnings, sklearn, numpy as np, matplotlib.pyplot as plt\n",
    "warnings.filterwarnings('ignore')\n",
    "#Conda env: Scipy, pymatgen, matminer (runs w/ lower pandas), tensorflow "
   ]
  },
  {
   "cell_type": "code",
   "execution_count": null,
   "id": "7a1f8453-c2e8-44e7-a0c1-fa67f3fd8a1d",
   "metadata": {},
   "outputs": [],
   "source": []
  }
 ],
 "metadata": {
  "kernelspec": {
   "display_name": "Python 3 (ipykernel)",
   "language": "python",
   "name": "python3"
  },
  "language_info": {
   "codemirror_mode": {
    "name": "ipython",
    "version": 3
   },
   "file_extension": ".py",
   "mimetype": "text/x-python",
   "name": "python",
   "nbconvert_exporter": "python",
   "pygments_lexer": "ipython3",
   "version": "3.8.18"
  }
 },
 "nbformat": 4,
 "nbformat_minor": 5
}
