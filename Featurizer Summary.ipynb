{
 "cells": [
  {
   "cell_type": "markdown",
   "id": "30e830f4",
   "metadata": {},
   "source": [
    "Installation of the following featurization schemes:\n",
    "- RDKit\n",
    "- ElemNet (onehot)\n",
    "- Jarvis\n",
    "- Mat2vec\n",
    "- Atom2vec\n",
    "- Magpie\n",
    "- Oliynyk\n",
    "\n",
    "Featurizers don't perform as well as Dr. Oliynyk's list of properties & code for featurization\n",
    "- See: https://doi.org/10.1007/s40192-020-00179-z\n",
    "\n",
    "Goal:\n",
    "- Summarize available featurizers, try to install them and test with the dataset provided (check Teams soon), compare it to the code that will collectively be put together."
   ]
  },
  {
   "cell_type": "markdown",
   "id": "382572ff",
   "metadata": {},
   "source": [
    "### RDKit Installation"
   ]
  },
  {
   "cell_type": "code",
   "execution_count": 2,
   "id": "f2ce1abd",
   "metadata": {},
   "outputs": [
    {
     "ename": "ModuleNotFoundError",
     "evalue": "No module named 'rdkit'",
     "output_type": "error",
     "traceback": [
      "\u001b[0;31m---------------------------------------------------------------------------\u001b[0m",
      "\u001b[0;31mModuleNotFoundError\u001b[0m                       Traceback (most recent call last)",
      "Cell \u001b[0;32mIn[2], line 3\u001b[0m\n\u001b[1;32m      1\u001b[0m \u001b[38;5;66;03m# https://www.rdkit.org/\u001b[39;00m\n\u001b[1;32m      2\u001b[0m \u001b[38;5;66;03m# https://github.com/rdkit/rdkit\u001b[39;00m\n\u001b[0;32m----> 3\u001b[0m \u001b[38;5;28;01mfrom\u001b[39;00m \u001b[38;5;21;01mrdkit\u001b[39;00m\u001b[38;5;21;01m.\u001b[39;00m\u001b[38;5;21;01mML\u001b[39;00m\u001b[38;5;21;01m.\u001b[39;00m\u001b[38;5;21;01mDescriptors\u001b[39;00m \u001b[38;5;28;01mimport\u001b[39;00m MoleculeDescriptors\n",
      "\u001b[0;31mModuleNotFoundError\u001b[0m: No module named 'rdkit'"
     ]
    }
   ],
   "source": [
    "# https://www.rdkit.org/\n",
    "# https://github.com/rdkit/rdkit\n",
    "from rdkit.ML.Descriptors import MoleculeDescriptors"
   ]
  },
  {
   "cell_type": "markdown",
   "id": "7faaf3e0",
   "metadata": {},
   "source": [
    "I ended up snooping around online because it seems that the RDKit documentation isn't completely accurate, or the homebrew installation didn't include some modules and I found this repository courtesy of Dr. Goshu (https://www.youtube.com/watch?v=9i9SY6Nd1Zw):\n",
    "   \n",
    "       https://github.com/gashawmg/molecular-descriptors/blob/main/Molecular%20descriptors.ipynb\n",
    "  \n",
    "Considering we don't have to reinvent the wheel, we'll repurpose his function below:"
   ]
  },
  {
   "cell_type": "code",
   "execution_count": null,
   "id": "7cb0defc",
   "metadata": {},
   "outputs": [],
   "source": [
    "# Defining function:\n",
    "\n",
    "def RDkit_descriptors(smiles):\n",
    "    mols = [Chem.MolFromSmiles(i) for i in smiles] \n",
    "    calc = MoleculeDescriptors.MolecularDescriptorCalculator([x[0] for x in Descriptors._descList])\n",
    "    desc_names = calc.GetDescriptorNames()\n",
    "    \n",
    "    Mol_descriptors =[]\n",
    "    for mol in mols:\n",
    "        # Add hydrogens to molecules\n",
    "        mol=Chem.AddHs(mol)\n",
    "        # Calculate all 211 descriptors for each molecule\n",
    "        descriptors = calc.CalcDescriptors(mol)\n",
    "        Mol_descriptors.append(descriptors)\n",
    "    return Mol_descriptors,desc_names "
   ]
  },
  {
   "cell_type": "code",
   "execution_count": 3,
   "id": "b8386b3d",
   "metadata": {},
   "outputs": [
    {
     "ename": "NameError",
     "evalue": "name 'RDkit_descriptors' is not defined",
     "output_type": "error",
     "traceback": [
      "\u001b[0;31m---------------------------------------------------------------------------\u001b[0m",
      "\u001b[0;31mNameError\u001b[0m                                 Traceback (most recent call last)",
      "Cell \u001b[0;32mIn[3], line 2\u001b[0m\n\u001b[1;32m      1\u001b[0m \u001b[38;5;66;03m# Function call\u001b[39;00m\n\u001b[0;32m----> 2\u001b[0m Mol_descriptors,desc_names \u001b[38;5;241m=\u001b[39m \u001b[43mRDkit_descriptors\u001b[49m(editedData[\u001b[38;5;124m'\u001b[39m\u001b[38;5;124msmiles\u001b[39m\u001b[38;5;124m'\u001b[39m])\n",
      "\u001b[0;31mNameError\u001b[0m: name 'RDkit_descriptors' is not defined"
     ]
    }
   ],
   "source": [
    "# Function call\n",
    "Mol_descriptors,desc_names = RDkit_descriptors(editedData['smiles'])"
   ]
  },
  {
   "cell_type": "code",
   "execution_count": 4,
   "id": "f6c18c6a",
   "metadata": {},
   "outputs": [
    {
     "ename": "NameError",
     "evalue": "name 'editedData' is not defined",
     "output_type": "error",
     "traceback": [
      "\u001b[0;31m---------------------------------------------------------------------------\u001b[0m",
      "\u001b[0;31mNameError\u001b[0m                                 Traceback (most recent call last)",
      "Cell \u001b[0;32mIn[4], line 2\u001b[0m\n\u001b[1;32m      1\u001b[0m \u001b[38;5;66;03m# Extract column names from 'editedData'\u001b[39;00m\n\u001b[0;32m----> 2\u001b[0m editedData_columns \u001b[38;5;241m=\u001b[39m \u001b[43meditedData\u001b[49m\u001b[38;5;241m.\u001b[39mcolumns\n\u001b[1;32m      4\u001b[0m \u001b[38;5;66;03m# Create DataFrame from 'Mol_descriptors' using 'desc_names' as column names\u001b[39;00m\n\u001b[1;32m      5\u001b[0m result_df \u001b[38;5;241m=\u001b[39m pd\u001b[38;5;241m.\u001b[39mDataFrame(Mol_descriptors, columns\u001b[38;5;241m=\u001b[39mdesc_names)\n",
      "\u001b[0;31mNameError\u001b[0m: name 'editedData' is not defined"
     ]
    }
   ],
   "source": [
    "# Extract column names from 'editedData'\n",
    "editedData_columns = editedData.columns\n",
    "\n",
    "# Create DataFrame from 'Mol_descriptors' using 'desc_names' as column names\n",
    "result_df = pd.DataFrame(Mol_descriptors, columns=desc_names)\n",
    "\n",
    "# Concatenate 'result_df' and 'editedData' horizontally\n",
    "result_df = pd.concat([result_df, editedData], axis=1)\n",
    "result_df"
   ]
  },
  {
   "cell_type": "markdown",
   "id": "5b064327",
   "metadata": {},
   "source": [
    "### ElemNet Installation\n",
    "\n",
    "ElemNet is a deep neural network model that takes only the elemental compositions as inputs and leverages artificial intelligence to automatically capture the essential chemistry to predict materials properties. ElemNet can automatically learn the chemical interactions and similarities between different elements which allows it to even predict the phase diagrams of chemical systems absent from the training dataset more accurately than the conventional machine learning models based on physical attributes levaraging domain knowledge.\n",
    "\n",
    "    https://github.com/NU-CUCIS/ElemNet/blob/master/README.md\n",
    "    \n",
    "Also needs Magpie..."
   ]
  },
  {
   "cell_type": "code",
   "execution_count": 6,
   "id": "5173f962",
   "metadata": {},
   "outputs": [],
   "source": [
    "# Requirements:\n",
    "import pandas as pd, warnings, sklearn, numpy as np, matplotlib.pyplot as plt\n",
    "warnings.filterwarnings('ignore')\n",
    "#Conda env: Scipy, pymatgen, matminer (runs w/ lower pandas), tensorflow "
   ]
  },
  {
   "cell_type": "markdown",
   "id": "c9dda213",
   "metadata": {},
   "source": [
    "### Magpie Installation\n",
    "\n",
    "Magpie is an extensible platform for using machine learning to predict the properties of materials.\n",
    "\n",
    "Magpie is also an acronym for “Material-Agnostic Platform for Informatics and Exploration”, and is named after an intelligent bird.\n",
    "\n",
    "Begin here:\n",
    "https://bitbucket.org/wolverton/magpie/src/master/README.md\n",
    "tutorial:\n",
    "https://wolverton.bitbucket.io/installation.html\n",
    "\n",
    "No clue why but its not working. JDK/gradlew issues I was trying to troubleshoot for hours."
   ]
  },
  {
   "cell_type": "markdown",
   "id": "5ec708ef",
   "metadata": {},
   "source": [
    "### Mat2Vec Installation\n",
    "\n",
    "See following:\n",
    "\n",
    "    https://github.com/materialsintelligence/mat2vec\n",
    "    \n",
    "Downgrade your python version to 3.8 otherwise DAWG can't be installed."
   ]
  },
  {
   "cell_type": "code",
   "execution_count": 9,
   "id": "5112a571",
   "metadata": {},
   "outputs": [
    {
     "data": {
      "text/plain": [
       "(['CoLiO2', 'is', 'a', 'battery', 'cathode', 'material', '.'],\n",
       " [('LiCoO2', 'CoLiO2')])"
      ]
     },
     "execution_count": 9,
     "metadata": {},
     "output_type": "execute_result"
    }
   ],
   "source": [
    "import mat2vec\n",
    "from mat2vec.processing import MaterialsTextProcessor\n",
    "text_processor = MaterialsTextProcessor()\n",
    "text_processor.process(\"LiCoO2 is a battery cathode material.\")"
   ]
  },
  {
   "cell_type": "code",
   "execution_count": 10,
   "id": "89e31b76",
   "metadata": {},
   "outputs": [
    {
     "ename": "ImportError",
     "evalue": "cannot import name 'gensim' from 'mat2vec' (/Users/emiljaffal/anaconda3/envs/MLProj/lib/python3.8/site-packages/mat2vec/__init__.py)",
     "output_type": "error",
     "traceback": [
      "\u001b[0;31m---------------------------------------------------------------------------\u001b[0m",
      "\u001b[0;31mImportError\u001b[0m                               Traceback (most recent call last)",
      "Cell \u001b[0;32mIn[10], line 1\u001b[0m\n\u001b[0;32m----> 1\u001b[0m \u001b[38;5;28;01mfrom\u001b[39;00m \u001b[38;5;21;01mmat2vec\u001b[39;00m \u001b[38;5;28;01mimport\u001b[39;00m gensim\n\u001b[1;32m      2\u001b[0m \u001b[38;5;28;01mfrom\u001b[39;00m \u001b[38;5;21;01mgensim\u001b[39;00m\u001b[38;5;21;01m.\u001b[39;00m\u001b[38;5;21;01mmodels\u001b[39;00m \u001b[38;5;28;01mimport\u001b[39;00m Word2Vec\n\u001b[1;32m      3\u001b[0m w2v_model \u001b[38;5;241m=\u001b[39m Word2Vec\u001b[38;5;241m.\u001b[39mload(\u001b[38;5;124m\"\u001b[39m\u001b[38;5;124mmat2vec/training/models/pretrained_embeddings\u001b[39m\u001b[38;5;124m\"\u001b[39m)\n",
      "\u001b[0;31mImportError\u001b[0m: cannot import name 'gensim' from 'mat2vec' (/Users/emiljaffal/anaconda3/envs/MLProj/lib/python3.8/site-packages/mat2vec/__init__.py)"
     ]
    }
   ],
   "source": [
    "from mat2vec import gensim\n",
    "from gensim.models import Word2Vec\n",
    "w2v_model = Word2Vec.load(\"mat2vec/training/models/pretrained_embeddings\")\n",
    "w2v_model.wv.most_similar(\"thermoelectric\")"
   ]
  },
  {
   "cell_type": "code",
   "execution_count": 12,
   "id": "a86d6bdf",
   "metadata": {},
   "outputs": [
    {
     "ename": "NameError",
     "evalue": "name 'w2v_model' is not defined",
     "output_type": "error",
     "traceback": [
      "\u001b[0;31m---------------------------------------------------------------------------\u001b[0m",
      "\u001b[0;31mNameError\u001b[0m                                 Traceback (most recent call last)",
      "Cell \u001b[0;32mIn[12], line 1\u001b[0m\n\u001b[0;32m----> 1\u001b[0m \u001b[43mw2v_model\u001b[49m\u001b[38;5;241m.\u001b[39mwv\u001b[38;5;241m.\u001b[39mmost_similar(\u001b[38;5;124m\"\u001b[39m\u001b[38;5;124mband_gap\u001b[39m\u001b[38;5;124m\"\u001b[39m, topn\u001b[38;5;241m=\u001b[39m\u001b[38;5;241m5\u001b[39m)\n",
      "\u001b[0;31mNameError\u001b[0m: name 'w2v_model' is not defined"
     ]
    }
   ],
   "source": [
    "w2v_model.wv.most_similar(\"band_gap\", topn=5)"
   ]
  },
  {
   "cell_type": "code",
   "execution_count": 13,
   "id": "fae41bfa",
   "metadata": {},
   "outputs": [
    {
     "ename": "NameError",
     "evalue": "name 'w2v_model' is not defined",
     "output_type": "error",
     "traceback": [
      "\u001b[0;31m---------------------------------------------------------------------------\u001b[0m",
      "\u001b[0;31mNameError\u001b[0m                                 Traceback (most recent call last)",
      "Cell \u001b[0;32mIn[13], line 3\u001b[0m\n\u001b[1;32m      1\u001b[0m \u001b[38;5;28;01mfrom\u001b[39;00m \u001b[38;5;21;01mmat2vec\u001b[39;00m\u001b[38;5;21;01m.\u001b[39;00m\u001b[38;5;21;01mprocessing\u001b[39;00m \u001b[38;5;28;01mimport\u001b[39;00m MaterialsTextProcessor\n\u001b[1;32m      2\u001b[0m text_processor \u001b[38;5;241m=\u001b[39m MaterialsTextProcessor()\n\u001b[0;32m----> 3\u001b[0m \u001b[43mw2v_model\u001b[49m\u001b[38;5;241m.\u001b[39mwv\u001b[38;5;241m.\u001b[39mmost_similar(\n\u001b[1;32m      4\u001b[0m     positive\u001b[38;5;241m=\u001b[39m[\u001b[38;5;124m\"\u001b[39m\u001b[38;5;124mcubic\u001b[39m\u001b[38;5;124m\"\u001b[39m, text_processor\u001b[38;5;241m.\u001b[39mnormalized_formula(\u001b[38;5;124m\"\u001b[39m\u001b[38;5;124mCdSe\u001b[39m\u001b[38;5;124m\"\u001b[39m)], \n\u001b[1;32m      5\u001b[0m     negative\u001b[38;5;241m=\u001b[39m[text_processor\u001b[38;5;241m.\u001b[39mnormalized_formula(\u001b[38;5;124m\"\u001b[39m\u001b[38;5;124mGaAs\u001b[39m\u001b[38;5;124m\"\u001b[39m)], topn\u001b[38;5;241m=\u001b[39m\u001b[38;5;241m1\u001b[39m)\n",
      "\u001b[0;31mNameError\u001b[0m: name 'w2v_model' is not defined"
     ]
    }
   ],
   "source": [
    "from mat2vec.processing import MaterialsTextProcessor\n",
    "text_processor = MaterialsTextProcessor()\n",
    "w2v_model.wv.most_similar(\n",
    "    positive=[\"cubic\", text_processor.normalized_formula(\"CdSe\")], \n",
    "    negative=[text_processor.normalized_formula(\"GaAs\")], topn=1)"
   ]
  },
  {
   "cell_type": "markdown",
   "id": "b659bba9",
   "metadata": {},
   "source": [
    "### Atom2Vec Installation\n",
    "\n",
    "A python implement of Atom2Vec: a simple way to describe atoms for machine learning\n",
    "\n",
    "See following:\n",
    "\n",
    "    https://github.com/idocx/Atom2Vec\n",
    "    \n",
    "'The 'sklearn' PyPI package is deprecated, use 'scikit-learn'rather than 'sklearn' for pip commands.'???"
   ]
  },
  {
   "cell_type": "markdown",
   "id": "322dacba",
   "metadata": {},
   "source": [
    "### Jarvis Installation\n",
    "\n",
    "The JARVIS-Tools is an open-access software package for atomistic data-driven materials design. JARVIS-Tools can be used for a) setting up calculations, b) analysis and informatics, c) plotting, d) database development and e) web-page development.\n",
    "\n",
    "see following:\n",
    "    \n",
    "    https://pages.nist.gov/jarvis/#install\n",
    "    \n",
    "for tutorials:\n",
    "    \n",
    "    https://pages.nist.gov/jarvis/tutorials/\n",
    "    \n",
    "all info:\n",
    "\n",
    "    https://jarvis.nist.gov"
   ]
  },
  {
   "cell_type": "code",
   "execution_count": 1,
   "id": "ea1a63cb",
   "metadata": {},
   "outputs": [
    {
     "name": "stdout",
     "output_type": "stream",
     "text": [
      "2.33\n",
      "Obtaining 3D dataset 76k ...\n",
      "Reference:https://www.nature.com/articles/s41524-020-00440-1\n",
      "Other versions:https://doi.org/10.6084/m9.figshare.6815699\n"
     ]
    },
    {
     "name": "stderr",
     "output_type": "stream",
     "text": [
      "100%|█████████████████████████████████████| 40.8M/40.8M [00:21<00:00, 1.89MiB/s]\n"
     ]
    },
    {
     "name": "stdout",
     "output_type": "stream",
     "text": [
      "Loading the zipfile...\n",
      "Loading completed.\n",
      "75993\n",
      "Obtaining 2D dataset 1.1k ...\n",
      "Reference:https://www.nature.com/articles/s41524-020-00440-1\n",
      "Other versions:https://doi.org/10.6084/m9.figshare.6815705\n"
     ]
    },
    {
     "name": "stderr",
     "output_type": "stream",
     "text": [
      "100%|█████████████████████████████████████| 8.39M/8.39M [00:03<00:00, 2.54MiB/s]\n"
     ]
    },
    {
     "name": "stdout",
     "output_type": "stream",
     "text": [
      "Loading the zipfile...\n",
      "Loading completed.\n",
      "1103\n",
      "Requires ASE for this functionality.\n"
     ]
    }
   ],
   "source": [
    "import jarvis\n",
    "from jarvis.core.atoms import Atoms\n",
    "box = [[2.715, 2.715, 0], [0, 2.715, 2.715], [2.715, 0, 2.715]]\n",
    "coords = [[0, 0, 0], [0.25, 0.25, 0.25]]\n",
    "elements = [\"Si\", \"Si\"]\n",
    "Si = Atoms(lattice_mat=box, coords=coords, elements=elements)\n",
    "density = round(Si.density,2)\n",
    "print (density)\n",
    "2.33\n",
    "\n",
    "from jarvis.db.figshare import data\n",
    "dft_3d = data(dataset='dft_3d')\n",
    "print (len(dft_3d))\n",
    "75993\n",
    "\n",
    "\n",
    "from jarvis.io.vasp.inputs import Poscar\n",
    "for i in dft_3d:\n",
    "    atoms = Atoms.from_dict(i['atoms'])\n",
    "    poscar = Poscar(atoms)\n",
    "    jid = i['jid']\n",
    "    filename = 'POSCAR-'+jid+'.vasp'\n",
    "    poscar.write_file(filename)\n",
    "dft_2d = data(dataset='dft_2d')\n",
    "print (len(dft_2d))\n",
    "1109\n",
    "\n",
    "for i in dft_2d:\n",
    "    atoms = Atoms.from_dict(i['atoms'])\n",
    "    poscar = Poscar(atoms)\n",
    "    jid = i['jid']\n",
    "    filename = 'POSCAR-'+jid+'.vasp'\n",
    "    poscar.write_file(filename)\n",
    "# Example to parse DOS data from JARVIS-DFT webpages\n",
    "from jarvis.db.webpages import Webpage\n",
    "from jarvis.core.spectrum import Spectrum\n",
    "import numpy as np\n",
    "new_dist=np.arange(-5, 10, 0.05)\n",
    "all_atoms = []\n",
    "all_dos_up = []\n",
    "all_jids = []\n",
    "for ii,i in enumerate(dft_3d):\n",
    "  all_jids.append(i['jid'])\n",
    "  try:\n",
    "    w = Webpage(jid=i['jid'])\n",
    "    edos_data = w.get_dft_electron_dos()\n",
    "    ens = np.array(edos_data['edos_energies'].strip(\"'\").split(','),dtype='float')\n",
    "    tot_dos_up = np.array(edos_data['total_edos_up'].strip(\"'\").split(','),dtype='float')\n",
    "    s = Spectrum(x=ens,y=tot_dos_up)\n",
    "    interp = s.get_interpolated_values(new_dist=new_dist)\n",
    "    atoms=Atoms.from_dict(i['atoms'])\n",
    "    ase_atoms=atoms.ase_converter()\n",
    "    all_dos_up.append(interp)\n",
    "    all_atoms.append(atoms)\n",
    "    all_jids.append(i['jid'])\n",
    "    filename=i['jid']+'.cif'\n",
    "    atoms.write_cif(filename)\n",
    "    break\n",
    "  except Exception as exp :\n",
    "    print (exp,i['jid'])\n",
    "    pass"
   ]
  },
  {
   "cell_type": "markdown",
   "id": "2794a34e",
   "metadata": {},
   "source": [
    "An atomic structure can consist of atomic element types, corresponding xyz coordinates in space (either in real or reciprocal space) and lattice matrix used in setting periodic boundary conditions.\n",
    "\n",
    "An example of constructing an atomic structure class using jarvis.core.Atoms is given below. After creating the Atoms class, we can simply print it and visualize the POSCAR format file in a software such as VESTA. While the examples below use Silicon elemental crystal creation and analysis, it can be used for multi-component systems as well."
   ]
  },
  {
   "cell_type": "code",
   "execution_count": 14,
   "id": "529a67a6",
   "metadata": {},
   "outputs": [
    {
     "name": "stdout",
     "output_type": "stream",
     "text": [
      "System\n",
      "1.0\n",
      "2.715 2.715 0.0\n",
      "0.0 2.715 2.715\n",
      "2.715 0.0 2.715\n",
      "Si \n",
      "2 \n",
      "direct\n",
      "0.0 0.0 0.0 Si\n",
      "0.25 0.25 0.25 Si\n",
      "\n"
     ]
    }
   ],
   "source": [
    "from jarvis.core.atoms import Atoms\n",
    "box = [[2.715, 2.715, 0], [0, 2.715, 2.715], [2.715, 0, 2.715]]\n",
    "coords = [[0, 0, 0], [0.25, 0.25, 0.25]]\n",
    "elements = [\"Si\", \"Si\"]\n",
    "Si = Atoms(lattice_mat=box, coords=coords, elements=elements, cartesian=False)\n",
    "print (Si) # To visualize \n",
    "Si.write_poscar('POSCAR.vasp')\n",
    "Si.write_cif('POSCAR.vasp')"
   ]
  },
  {
   "cell_type": "markdown",
   "id": "8378afb0",
   "metadata": {},
   "source": [
    "The Atoms class here is created from the raw data, but it can also be read from different file formats such as: '.cif', 'POSCAR', '.xyz', '.pdb', '.sdf', '.mol2' etc. The Atoms class can also be written to files in formats such as POSCAR/.cif etc.\n",
    "\n",
    "Note that for molecular systems, we use a large vaccum padding (say 50 Angstrom in each direction) and set lattice_mat accordingly, e.g. lattice_mat = [[50,0,0],[0,50,0],[0,0,50]]. Similarly, for free surfaces we set high vaccum in one of the crystallographic directions (say z) by giving a large z-comonent in the lattice matrix while keeping the x, y comonents intact."
   ]
  },
  {
   "cell_type": "code",
   "execution_count": 15,
   "id": "a93e4495",
   "metadata": {},
   "outputs": [
    {
     "ename": "FileNotFoundError",
     "evalue": "[Errno 2] No such file or directory: 'POSCAR'",
     "output_type": "error",
     "traceback": [
      "\u001b[0;31m---------------------------------------------------------------------------\u001b[0m",
      "\u001b[0;31mFileNotFoundError\u001b[0m                         Traceback (most recent call last)",
      "Cell \u001b[0;32mIn[15], line 1\u001b[0m\n\u001b[0;32m----> 1\u001b[0m my_atoms \u001b[38;5;241m=\u001b[39m \u001b[43mAtoms\u001b[49m\u001b[38;5;241;43m.\u001b[39;49m\u001b[43mfrom_poscar\u001b[49m\u001b[43m(\u001b[49m\u001b[38;5;124;43m'\u001b[39;49m\u001b[38;5;124;43mPOSCAR\u001b[39;49m\u001b[38;5;124;43m'\u001b[39;49m\u001b[43m)\u001b[49m\n\u001b[1;32m      2\u001b[0m my_atoms\u001b[38;5;241m.\u001b[39mwrite_poscar(\u001b[38;5;124m'\u001b[39m\u001b[38;5;124mMyPOSCAR\u001b[39m\u001b[38;5;124m'\u001b[39m)\n",
      "File \u001b[0;32m~/anaconda3/envs/MLProj/lib/python3.8/site-packages/jarvis_tools-2023.12.12-py3.8.egg/jarvis/core/atoms.py:618\u001b[0m, in \u001b[0;36mAtoms.from_poscar\u001b[0;34m(self, filename)\u001b[0m\n\u001b[1;32m    615\u001b[0m \u001b[38;5;250m\u001b[39m\u001b[38;5;124;03m\"\"\"Read POSCAR/CONTCAR file from to make Atoms object.\"\"\"\u001b[39;00m\n\u001b[1;32m    616\u001b[0m \u001b[38;5;28;01mfrom\u001b[39;00m \u001b[38;5;21;01mjarvis\u001b[39;00m\u001b[38;5;21;01m.\u001b[39;00m\u001b[38;5;21;01mio\u001b[39;00m\u001b[38;5;21;01m.\u001b[39;00m\u001b[38;5;21;01mvasp\u001b[39;00m\u001b[38;5;21;01m.\u001b[39;00m\u001b[38;5;21;01minputs\u001b[39;00m \u001b[38;5;28;01mimport\u001b[39;00m Poscar\n\u001b[0;32m--> 618\u001b[0m \u001b[38;5;28;01mreturn\u001b[39;00m \u001b[43mPoscar\u001b[49m\u001b[38;5;241;43m.\u001b[39;49m\u001b[43mfrom_file\u001b[49m\u001b[43m(\u001b[49m\u001b[43mfilename\u001b[49m\u001b[43m)\u001b[49m\u001b[38;5;241m.\u001b[39matoms\n",
      "File \u001b[0;32m~/anaconda3/envs/MLProj/lib/python3.8/site-packages/jarvis_tools-2023.12.12-py3.8.egg/jarvis/io/vasp/inputs.py:36\u001b[0m, in \u001b[0;36mPoscar.from_file\u001b[0;34m(filename)\u001b[0m\n\u001b[1;32m     33\u001b[0m \u001b[38;5;129m@staticmethod\u001b[39m\n\u001b[1;32m     34\u001b[0m \u001b[38;5;28;01mdef\u001b[39;00m \u001b[38;5;21mfrom_file\u001b[39m(filename\u001b[38;5;241m=\u001b[39m\u001b[38;5;124m\"\u001b[39m\u001b[38;5;124mPOSCAR\u001b[39m\u001b[38;5;124m\"\u001b[39m):\n\u001b[1;32m     35\u001b[0m \u001b[38;5;250m    \u001b[39m\u001b[38;5;124;03m\"\"\"Read simple POSCAR file from the path.\"\"\"\u001b[39;00m\n\u001b[0;32m---> 36\u001b[0m     \u001b[38;5;28;01mwith\u001b[39;00m \u001b[38;5;28;43mopen\u001b[39;49m\u001b[43m(\u001b[49m\u001b[43mfilename\u001b[49m\u001b[43m,\u001b[49m\u001b[43m \u001b[49m\u001b[38;5;124;43m\"\u001b[39;49m\u001b[38;5;124;43mr\u001b[39;49m\u001b[38;5;124;43m\"\u001b[39;49m\u001b[43m)\u001b[49m \u001b[38;5;28;01mas\u001b[39;00m f:\n\u001b[1;32m     37\u001b[0m         \u001b[38;5;28;01mreturn\u001b[39;00m Poscar\u001b[38;5;241m.\u001b[39mfrom_string(f\u001b[38;5;241m.\u001b[39mread())\n",
      "\u001b[0;31mFileNotFoundError\u001b[0m: [Errno 2] No such file or directory: 'POSCAR'"
     ]
    }
   ],
   "source": [
    "my_atoms = Atoms.from_poscar('POSCAR')\n",
    "my_atoms.write_poscar('MyPOSCAR')"
   ]
  },
  {
   "cell_type": "markdown",
   "id": "c3a5c289",
   "metadata": {},
   "source": [
    "Once this Atoms class is created, several important information can be obtained such as:"
   ]
  },
  {
   "cell_type": "code",
   "execution_count": 16,
   "id": "304dee1b",
   "metadata": {},
   "outputs": [
    {
     "name": "stdout",
     "output_type": "stream",
     "text": [
      "volume 40.02575174999999\n",
      "density in g/cm3 2.3303545408113413\n",
      "composition as dictionary OrderedDict([('Si', 2)])\n",
      "Chemical formula Si\n",
      "Spacegroup info Fd-3m (227)\n",
      "lattice-parameters [3.83959, 3.83959, 3.83959] [60.0, 60.0, 60.0]\n",
      "packing fraction 0.27858\n",
      "number of atoms 2\n",
      "Center of mass [0.67875 0.67875 0.67875]\n",
      "Atomic number list [14, 14]\n"
     ]
    }
   ],
   "source": [
    "print ('volume',Si.volume)\n",
    "print ('density in g/cm3', Si.density)\n",
    "print ('composition as dictionary', Si.composition)\n",
    "print ('Chemical formula', Si.composition.reduced_formula)\n",
    "print ('Spacegroup info', Si.spacegroup())\n",
    "print ('lattice-parameters', Si.lattice.abc, Si.lattice.angles)\n",
    "print ('packing fraction',Si.packing_fraction)\n",
    "print ('number of atoms',Si.num_atoms)\n",
    "print ('Center of mass', Si.get_center_of_mass())\n",
    "print ('Atomic number list', Si.atomic_numbers)"
   ]
  },
  {
   "cell_type": "markdown",
   "id": "c525a164",
   "metadata": {},
   "source": [
    "For creating/accessing dataset(s), we use Atoms.from_dict() and Atoms.to_dict() methods:"
   ]
  },
  {
   "cell_type": "code",
   "execution_count": 17,
   "id": "ce3af0bf",
   "metadata": {},
   "outputs": [],
   "source": [
    "d = Si.to_dict()\n",
    "new_atoms = Atoms.from_dict(d)"
   ]
  },
  {
   "cell_type": "markdown",
   "id": "addd5828",
   "metadata": {},
   "source": [
    "The jarvis.core.Atoms object can be converted back and forth to other simulation toolsets such as Pymatgen and ASE if insyalled, as follows"
   ]
  },
  {
   "cell_type": "code",
   "execution_count": 18,
   "id": "bc343c27",
   "metadata": {},
   "outputs": [
    {
     "name": "stdout",
     "output_type": "stream",
     "text": [
      "Requires ASE for this functionality.\n"
     ]
    }
   ],
   "source": [
    "pmg_struct = Si.pymatgen_converter()\n",
    "ase_atoms = Si.ase_converter()"
   ]
  },
  {
   "cell_type": "markdown",
   "id": "d32370be",
   "metadata": {},
   "source": [
    "In order to make supercell, the following example can be used:"
   ]
  },
  {
   "cell_type": "code",
   "execution_count": 19,
   "id": "dbf9b4c0",
   "metadata": {},
   "outputs": [
    {
     "data": {
      "text/plain": [
       "True"
      ]
     },
     "execution_count": 19,
     "metadata": {},
     "output_type": "execute_result"
    }
   ],
   "source": [
    "supercell_1 = Si.make_supercell([2,2,2])\n",
    "supercell_2 = Si.make_supercell_matrix([[2,0,0],[0,2,0],[0,0,2]])\n",
    "supercell_1.density == supercell_2.density"
   ]
  }
 ],
 "metadata": {
  "kernelspec": {
   "display_name": "Python 3 (ipykernel)",
   "language": "python",
   "name": "python3"
  },
  "language_info": {
   "codemirror_mode": {
    "name": "ipython",
    "version": 3
   },
   "file_extension": ".py",
   "mimetype": "text/x-python",
   "name": "python",
   "nbconvert_exporter": "python",
   "pygments_lexer": "ipython3",
   "version": "3.8.18"
  }
 },
 "nbformat": 4,
 "nbformat_minor": 5
}
