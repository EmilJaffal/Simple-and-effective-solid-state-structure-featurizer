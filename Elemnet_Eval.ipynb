{
 "cells": [
  {
   "cell_type": "code",
   "execution_count": 1,
   "id": "d467944a-c742-42e7-bc1f-81d9427f6d1f",
   "metadata": {
    "tags": []
   },
   "outputs": [
    {
     "name": "stdout",
     "output_type": "stream",
     "text": [
      "/Users/emiljaffal\n"
     ]
    }
   ],
   "source": [
    "cd"
   ]
  },
  {
   "cell_type": "code",
   "execution_count": null,
   "id": "39b97e58-536b-41b3-b965-f1264c89b146",
   "metadata": {
    "scrolled": true,
    "tags": []
   },
   "outputs": [],
   "source": [
    "import pandas as pd\n",
    "\n",
    "file_path = \"desktop/data.xlsx\"\n",
    "data = pd.read_excel(file_path)\n",
    "data"
   ]
  },
  {
   "cell_type": "code",
   "execution_count": null,
   "id": "4c43820b-8ec0-4411-8aeb-8db883c63bf0",
   "metadata": {
    "tags": []
   },
   "outputs": [],
   "source": [
    "cd desktop/elemnet/elemnet"
   ]
  },
  {
   "cell_type": "code",
   "execution_count": null,
   "id": "3667350e-7886-4138-8d6b-5feabf869134",
   "metadata": {
    "tags": []
   },
   "outputs": [],
   "source": [
    "#had to update composition.py, data.py, conversions.py from matminer... code not maintained in accordance to updated submodules:\n",
    "    #from pymatgen.core.composition import Composition #UPDATE\n",
    "    #from pymatgen.ext.matproj import MPRester\n",
    "\n",
    "import re, numpy as np, os, sys, pandas\n",
    "from pymatgen.core.composition import Composition \n",
    "import data_utils\n",
    "import magpie\n",
    "from matminer.featurizers.base import MultipleFeaturizer\n",
    "from matminer.featurizers import composition as cf\n",
    "from matminer.utils.conversions import str_to_composition\n",
    "from sklearn.model_selection import train_test_split\n",
    "from sklearn.model_selection import KFold"
   ]
  },
  {
   "cell_type": "code",
   "execution_count": null,
   "id": "f0fecaab-63ba-4b0b-86e0-219d61f14b69",
   "metadata": {
    "tags": []
   },
   "outputs": [],
   "source": [
    "formula_unitcell = data[['Formula', 'Unit cell volume, A^3']]\n",
    "formula_unitcell.rename(columns={'Formula':'composition'}, inplace=True)\n",
    "formula_unitcell"
   ]
  },
  {
   "cell_type": "code",
   "execution_count": null,
   "id": "63c80d2f-ea4b-4fb4-9727-5014a8693fee",
   "metadata": {
    "tags": []
   },
   "outputs": [],
   "source": [
    "formula_unitcell['comp_obj'] = formula_unitcell['composition'].apply(lambda x: Composition(x))\n",
    "formula_unitcell"
   ]
  },
  {
   "cell_type": "code",
   "execution_count": null,
   "id": "c7690c10-9296-4474-b42d-484abf8ac9a8",
   "metadata": {
    "tags": []
   },
   "outputs": [],
   "source": [
    "formula_unitcell['pretty_comp'] = formula_unitcell['comp_obj'].apply(lambda x: x.reduced_formula)\n",
    "formula_unitcell"
   ]
  },
  {
   "cell_type": "code",
   "execution_count": null,
   "id": "5d36a486-d3c0-46a7-aad5-05100dc23a81",
   "metadata": {
    "tags": []
   },
   "outputs": [],
   "source": [
    "#formula_unitcell.drop_duplicates('pretty_comp', keep='first', inplace=True)\n",
    "#print('Reduced dataset to %d entries'%len(formula_unitcell))"
   ]
  },
  {
   "cell_type": "code",
   "execution_count": null,
   "id": "88e79547-74b5-4793-978a-9e1ebc81c72d",
   "metadata": {
    "tags": []
   },
   "outputs": [],
   "source": [
    "formula_unitcell['nelems'] = formula_unitcell['comp_obj'].apply(lambda x: len(x))\n",
    "formula_unitcell"
   ]
  },
  {
   "cell_type": "code",
   "execution_count": null,
   "id": "aa16896a-76f6-499f-a9f5-6fcdb3b30a1a",
   "metadata": {
    "tags": []
   },
   "outputs": [],
   "source": [
    "formula_unitcell.groupby('nelems').count()"
   ]
  },
  {
   "cell_type": "code",
   "execution_count": null,
   "id": "f7c29726-ee98-4146-92c1-302127370136",
   "metadata": {
    "tags": []
   },
   "outputs": [],
   "source": [
    "formula_unitcell['comp_dict'] = formula_unitcell['pretty_comp'].apply(lambda x: data_utils.parse_formula(x))\n",
    "formula_unitcell"
   ]
  },
  {
   "cell_type": "code",
   "execution_count": null,
   "id": "9c18a3a2-fddd-430d-aafb-b828e9684ecb",
   "metadata": {
    "tags": []
   },
   "outputs": [],
   "source": [
    "elements_present = set()\n",
    "for i, row in formula_unitcell.iterrows():\n",
    "    elements_present |= set(row['comp_dict'].keys())\n",
    "print (elements_present)"
   ]
  },
  {
   "cell_type": "code",
   "execution_count": null,
   "id": "f9eb906b-9f9a-478e-a350-cf1ab9b7b0c6",
   "metadata": {
    "tags": []
   },
   "outputs": [],
   "source": [
    "elements = ['H', 'He', 'Li', 'Be', 'B', 'C', 'N', 'O', 'F', 'Ne', 'Na', 'Mg', 'Al', 'Si', 'P', 'S', 'Cl', 'Ar', 'K', \n",
    "            'Ca', 'Sc', 'Ti', 'V', 'Cr', 'Mn', 'Fe', 'Co', 'Ni', 'Cu', 'Zn', 'Ga', 'Ge', 'As', 'Se', 'Br', 'Kr', 'Rb',\n",
    "            'Sr', 'Y', 'Zr', 'Nb', 'Mo', 'Tc', 'Ru', 'Rh', 'Pd', 'Ag', 'Cd', 'In', 'Sn', 'Sb', 'Te', 'I', 'Xe', 'Cs', \n",
    "            'Ba', 'La', 'Ce', 'Pr', 'Nd', 'Pm', 'Sm', 'Eu', 'Gd', 'Tb', 'Dy', 'Ho', 'Er', 'Tm', 'Yb', 'Lu', 'Hf', 'Ta',\n",
    "            'W', 'Re', 'Os', 'Ir', 'Pt', 'Au', 'Hg', 'Tl', 'Pb', 'Bi', 'Po', 'At', 'Rn', 'Fr', 'Ra', 'Ac', 'Th', 'Pa',\n",
    "            'U', 'Np', 'Pu', 'Am', 'Cm', 'Bk', 'Cf', 'Es', 'Fm', 'Md', 'No', 'Lr', 'Rf', 'Db', 'Sg', 'Bh', 'Hs', 'Mt',\n",
    "            'Ds', 'Rg', 'Cn']\n",
    "\n",
    "\n",
    "elements_tl = ['H', 'Li', 'Be', 'B', 'C', 'N', 'O', 'F', 'Na', 'Mg', 'Al', 'Si', 'P', 'S', 'Cl', 'K',\n",
    " 'Ca', 'Sc', 'Ti', 'V', 'Cr', 'Mn', 'Fe', 'Co', 'Ni', 'Cu', 'Zn', 'Ga', 'Ge', 'As', 'Se',\n",
    " 'Br', 'Kr', 'Rb', 'Sr', 'Y', 'Zr', 'Nb', 'Mo', 'Tc', 'Ru', 'Rh', 'Pd', 'Ag', 'Cd', 'In',\n",
    " 'Sn', 'Sb', 'Te', 'I', 'Xe', 'Cs', 'Ba', 'La', 'Ce', 'Pr', 'Nd', 'Pm', 'Sm', 'Eu', 'Gd',\n",
    " 'Tb', 'Dy', 'Ho', 'Er', 'Tm', 'Yb', 'Lu', 'Hf', 'Ta', 'W', 'Re', 'Os', 'Ir', 'Pt', 'Au',\n",
    " 'Hg', 'Tl', 'Pb', 'Bi', 'Ac','Th', 'Pa', 'U', 'Np', 'Pu']\n",
    "\n",
    "elem_pos = dict()\n",
    "i=0\n",
    "for el in elements:\n",
    "   elem_pos[el] = i\n",
    "   i+=1"
   ]
  },
  {
   "cell_type": "code",
   "execution_count": null,
   "id": "8dd79e03-dd1c-4943-9971-0d4cfcb9ab21",
   "metadata": {
    "tags": []
   },
   "outputs": [],
   "source": [
    "print (elements_present, len(elements_present))\n",
    "print ([e for e in elements_present if e not in elements_tl])\n",
    "print ([e for e in elements_tl if e not in elements_present])"
   ]
  },
  {
   "cell_type": "code",
   "execution_count": null,
   "id": "55ed6a9d-ffa2-444a-9183-2db6a2202551",
   "metadata": {
    "tags": []
   },
   "outputs": [],
   "source": [
    "formula_unitcell['comp_fractions'] = formula_unitcell['comp_dict'].apply(lambda x: data_utils.get_fractions(x))\n",
    "formula_unitcell"
   ]
  },
  {
   "cell_type": "code",
   "execution_count": null,
   "id": "72757a2f-c1cf-47db-8ee9-b900a50bdb03",
   "metadata": {
    "tags": []
   },
   "outputs": [],
   "source": [
    "print (formula_unitcell[:1])\n",
    "#oqmd_data['solution_term'] = oqmd_data['comp_obj'].apply(lambda x: compute_mixing_term(x))\n",
    "print (formula_unitcell.shape)\n",
    "formula_unitcell = formula_unitcell[~formula_unitcell['comp_fractions'].isnull()]\n",
    "print (formula_unitcell.shape)"
   ]
  },
  {
   "cell_type": "code",
   "execution_count": null,
   "id": "3ffb8bc1-c54d-4f9c-9eae-603ba81b15bd",
   "metadata": {
    "tags": []
   },
   "outputs": [],
   "source": [
    "for i,e in enumerate(elements_tl):\n",
    "    formula_unitcell[e] = [ x[i] for x in formula_unitcell['comp_fractions']]\n",
    "formula_unitcell.shape"
   ]
  },
  {
   "cell_type": "code",
   "execution_count": null,
   "id": "cd9c7593-0301-4d4c-9b40-201ca68c5261",
   "metadata": {
    "tags": []
   },
   "outputs": [],
   "source": [
    "formula_unitcell.columns"
   ]
  },
  {
   "cell_type": "code",
   "execution_count": null,
   "id": "c95df6a4-a884-44fd-a2e3-18a7c008bac2",
   "metadata": {
    "tags": []
   },
   "outputs": [],
   "source": [
    "feature_calculators = MultipleFeaturizer([cf.Stoichiometry(), cf.IonProperty(fast=True)])"
   ]
  },
  {
   "cell_type": "code",
   "execution_count": null,
   "id": "019b0b43-243b-408d-8cdf-97520a9fc226",
   "metadata": {
    "tags": []
   },
   "outputs": [],
   "source": [
    "#feature_calculators = MultipleFeaturizer([cf.Stoichiometry(), cf.ElementProperty.from_preset(\"magpie\"),\n",
    "                                         # cf.ValenceOrbital(props=['avg']), cf.IonProperty(fast=True)])\n",
    "\n",
    "#Magpie folder is empty..."
   ]
  },
  {
   "cell_type": "code",
   "execution_count": null,
   "id": "0dae0ef7-6d0f-435c-b8f2-4d67dbc0d170",
   "metadata": {
    "tags": []
   },
   "outputs": [],
   "source": [
    "feature_labels = feature_calculators.feature_labels()"
   ]
  },
  {
   "cell_type": "code",
   "execution_count": null,
   "id": "9c186d7a-7720-489b-99df-1805c3275318",
   "metadata": {
    "tags": []
   },
   "outputs": [],
   "source": [
    "print (feature_labels, len(feature_labels)) #9/145 are not magpie-based"
   ]
  },
  {
   "cell_type": "code",
   "execution_count": null,
   "id": "f2b50efe",
   "metadata": {
    "tags": []
   },
   "outputs": [],
   "source": [
    "feature_calculators.featurize_dataframe(formula_unitcell, col_id='comp_obj');\n",
    "formula_unitcell"
   ]
  }
 ],
 "metadata": {
  "kernelspec": {
   "display_name": "Python 3 (ipykernel)",
   "language": "python",
   "name": "python3"
  },
  "language_info": {
   "codemirror_mode": {
    "name": "ipython",
    "version": 3
   },
   "file_extension": ".py",
   "mimetype": "text/x-python",
   "name": "python",
   "nbconvert_exporter": "python",
   "pygments_lexer": "ipython3",
   "version": "3.7.16"
  }
 },
 "nbformat": 4,
 "nbformat_minor": 5
}
